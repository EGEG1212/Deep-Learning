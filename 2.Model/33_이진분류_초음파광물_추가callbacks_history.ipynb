{
  "nbformat": 4,
  "nbformat_minor": 0,
  "metadata": {
    "colab": {
      "name": "33_이진분류_초음파광물_추가callbacks_history.ipynb",
      "provenance": [],
      "collapsed_sections": []
    },
    "kernelspec": {
      "name": "python3",
      "display_name": "Python 3"
    }
  },
  "cells": [
    {
      "cell_type": "markdown",
      "metadata": {
        "id": "PHtfKmaNMznl"
      },
      "source": [
        "# 초음파광물예측+추가callbacks+history"
      ]
    },
    {
      "cell_type": "code",
      "metadata": {
        "id": "0QKiNXnpM97T"
      },
      "source": [
        "import numpy as np\r\n",
        "import tensorflow as tf"
      ],
      "execution_count": null,
      "outputs": []
    },
    {
      "cell_type": "code",
      "metadata": {
        "id": "kmnyCkNQM99l"
      },
      "source": [
        "# 실행할때마다 같은 결과를 출력하기 위한 seed값설정\r\n",
        "seed = 2021\r\n",
        "np.random.seed(seed)\r\n",
        "tf.random.set_seed(seed)"
      ],
      "execution_count": null,
      "outputs": []
    },
    {
      "cell_type": "markdown",
      "metadata": {
        "id": "QUMFbEgcM-Aa"
      },
      "source": [
        "### 데이터 탐색"
      ]
    },
    {
      "cell_type": "code",
      "metadata": {
        "id": "fwCzUOyuM-DC"
      },
      "source": [
        "import pandas as pd"
      ],
      "execution_count": null,
      "outputs": []
    },
    {
      "cell_type": "code",
      "metadata": {
        "colab": {
          "resources": {
            "http://localhost:8080/nbextensions/google.colab/files.js": {
              "data": "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",
              "ok": true,
              "headers": [
                [
                  "content-type",
                  "application/javascript"
                ]
              ],
              "status": 200,
              "status_text": ""
            }
          },
          "base_uri": "https://localhost:8080/",
          "height": 94
        },
        "id": "eYUoKhf5M-F6",
        "outputId": "8cf80868-149e-4a93-fb7c-2eae81aa902f"
      },
      "source": [
        "from google.colab import files\r\n",
        "uploaded = files.upload() \r\n",
        "filename = list(uploaded.keys())[0]\r\n",
        "filename #sonar.csv"
      ],
      "execution_count": null,
      "outputs": [
        {
          "output_type": "display_data",
          "data": {
            "text/html": [
              "\n",
              "     <input type=\"file\" id=\"files-6e4a1603-5b11-4580-bd85-81bf1a72dac6\" name=\"files[]\" multiple disabled\n",
              "        style=\"border:none\" />\n",
              "     <output id=\"result-6e4a1603-5b11-4580-bd85-81bf1a72dac6\">\n",
              "      Upload widget is only available when the cell has been executed in the\n",
              "      current browser session. Please rerun this cell to enable.\n",
              "      </output>\n",
              "      <script src=\"/nbextensions/google.colab/files.js\"></script> "
            ],
            "text/plain": [
              "<IPython.core.display.HTML object>"
            ]
          },
          "metadata": {
            "tags": []
          }
        },
        {
          "output_type": "stream",
          "text": [
            "Saving sonar.csv to sonar.csv\n"
          ],
          "name": "stdout"
        },
        {
          "output_type": "execute_result",
          "data": {
            "application/vnd.google.colaboratory.intrinsic+json": {
              "type": "string"
            },
            "text/plain": [
              "'sonar.csv'"
            ]
          },
          "metadata": {
            "tags": []
          },
          "execution_count": 4
        }
      ]
    },
    {
      "cell_type": "code",
      "metadata": {
        "colab": {
          "base_uri": "https://localhost:8080/",
          "height": 162
        },
        "id": "Na-alpbQM-IT",
        "outputId": "a8b4e40d-1b8a-4021-dea1-adde4c47a35f"
      },
      "source": [
        "df = pd.read_csv(filename, header=None)\r\n",
        "df.head(3)"
      ],
      "execution_count": null,
      "outputs": [
        {
          "output_type": "execute_result",
          "data": {
            "text/html": [
              "<div>\n",
              "<style scoped>\n",
              "    .dataframe tbody tr th:only-of-type {\n",
              "        vertical-align: middle;\n",
              "    }\n",
              "\n",
              "    .dataframe tbody tr th {\n",
              "        vertical-align: top;\n",
              "    }\n",
              "\n",
              "    .dataframe thead th {\n",
              "        text-align: right;\n",
              "    }\n",
              "</style>\n",
              "<table border=\"1\" class=\"dataframe\">\n",
              "  <thead>\n",
              "    <tr style=\"text-align: right;\">\n",
              "      <th></th>\n",
              "      <th>0</th>\n",
              "      <th>1</th>\n",
              "      <th>2</th>\n",
              "      <th>3</th>\n",
              "      <th>4</th>\n",
              "      <th>5</th>\n",
              "      <th>6</th>\n",
              "      <th>7</th>\n",
              "      <th>8</th>\n",
              "      <th>9</th>\n",
              "      <th>10</th>\n",
              "      <th>11</th>\n",
              "      <th>12</th>\n",
              "      <th>13</th>\n",
              "      <th>14</th>\n",
              "      <th>15</th>\n",
              "      <th>16</th>\n",
              "      <th>17</th>\n",
              "      <th>18</th>\n",
              "      <th>19</th>\n",
              "      <th>20</th>\n",
              "      <th>21</th>\n",
              "      <th>22</th>\n",
              "      <th>23</th>\n",
              "      <th>24</th>\n",
              "      <th>25</th>\n",
              "      <th>26</th>\n",
              "      <th>27</th>\n",
              "      <th>28</th>\n",
              "      <th>29</th>\n",
              "      <th>30</th>\n",
              "      <th>31</th>\n",
              "      <th>32</th>\n",
              "      <th>33</th>\n",
              "      <th>34</th>\n",
              "      <th>35</th>\n",
              "      <th>36</th>\n",
              "      <th>37</th>\n",
              "      <th>38</th>\n",
              "      <th>39</th>\n",
              "      <th>40</th>\n",
              "      <th>41</th>\n",
              "      <th>42</th>\n",
              "      <th>43</th>\n",
              "      <th>44</th>\n",
              "      <th>45</th>\n",
              "      <th>46</th>\n",
              "      <th>47</th>\n",
              "      <th>48</th>\n",
              "      <th>49</th>\n",
              "      <th>50</th>\n",
              "      <th>51</th>\n",
              "      <th>52</th>\n",
              "      <th>53</th>\n",
              "      <th>54</th>\n",
              "      <th>55</th>\n",
              "      <th>56</th>\n",
              "      <th>57</th>\n",
              "      <th>58</th>\n",
              "      <th>59</th>\n",
              "      <th>60</th>\n",
              "    </tr>\n",
              "  </thead>\n",
              "  <tbody>\n",
              "    <tr>\n",
              "      <th>0</th>\n",
              "      <td>0.0200</td>\n",
              "      <td>0.0371</td>\n",
              "      <td>0.0428</td>\n",
              "      <td>0.0207</td>\n",
              "      <td>0.0954</td>\n",
              "      <td>0.0986</td>\n",
              "      <td>0.1539</td>\n",
              "      <td>0.1601</td>\n",
              "      <td>0.3109</td>\n",
              "      <td>0.2111</td>\n",
              "      <td>0.1609</td>\n",
              "      <td>0.1582</td>\n",
              "      <td>0.2238</td>\n",
              "      <td>0.0645</td>\n",
              "      <td>0.0660</td>\n",
              "      <td>0.2273</td>\n",
              "      <td>0.3100</td>\n",
              "      <td>0.2999</td>\n",
              "      <td>0.5078</td>\n",
              "      <td>0.4797</td>\n",
              "      <td>0.5783</td>\n",
              "      <td>0.5071</td>\n",
              "      <td>0.4328</td>\n",
              "      <td>0.5550</td>\n",
              "      <td>0.6711</td>\n",
              "      <td>0.6415</td>\n",
              "      <td>0.7104</td>\n",
              "      <td>0.8080</td>\n",
              "      <td>0.6791</td>\n",
              "      <td>0.3857</td>\n",
              "      <td>0.1307</td>\n",
              "      <td>0.2604</td>\n",
              "      <td>0.5121</td>\n",
              "      <td>0.7547</td>\n",
              "      <td>0.8537</td>\n",
              "      <td>0.8507</td>\n",
              "      <td>0.6692</td>\n",
              "      <td>0.6097</td>\n",
              "      <td>0.4943</td>\n",
              "      <td>0.2744</td>\n",
              "      <td>0.0510</td>\n",
              "      <td>0.2834</td>\n",
              "      <td>0.2825</td>\n",
              "      <td>0.4256</td>\n",
              "      <td>0.2641</td>\n",
              "      <td>0.1386</td>\n",
              "      <td>0.1051</td>\n",
              "      <td>0.1343</td>\n",
              "      <td>0.0383</td>\n",
              "      <td>0.0324</td>\n",
              "      <td>0.0232</td>\n",
              "      <td>0.0027</td>\n",
              "      <td>0.0065</td>\n",
              "      <td>0.0159</td>\n",
              "      <td>0.0072</td>\n",
              "      <td>0.0167</td>\n",
              "      <td>0.0180</td>\n",
              "      <td>0.0084</td>\n",
              "      <td>0.0090</td>\n",
              "      <td>0.0032</td>\n",
              "      <td>R</td>\n",
              "    </tr>\n",
              "    <tr>\n",
              "      <th>1</th>\n",
              "      <td>0.0453</td>\n",
              "      <td>0.0523</td>\n",
              "      <td>0.0843</td>\n",
              "      <td>0.0689</td>\n",
              "      <td>0.1183</td>\n",
              "      <td>0.2583</td>\n",
              "      <td>0.2156</td>\n",
              "      <td>0.3481</td>\n",
              "      <td>0.3337</td>\n",
              "      <td>0.2872</td>\n",
              "      <td>0.4918</td>\n",
              "      <td>0.6552</td>\n",
              "      <td>0.6919</td>\n",
              "      <td>0.7797</td>\n",
              "      <td>0.7464</td>\n",
              "      <td>0.9444</td>\n",
              "      <td>1.0000</td>\n",
              "      <td>0.8874</td>\n",
              "      <td>0.8024</td>\n",
              "      <td>0.7818</td>\n",
              "      <td>0.5212</td>\n",
              "      <td>0.4052</td>\n",
              "      <td>0.3957</td>\n",
              "      <td>0.3914</td>\n",
              "      <td>0.3250</td>\n",
              "      <td>0.3200</td>\n",
              "      <td>0.3271</td>\n",
              "      <td>0.2767</td>\n",
              "      <td>0.4423</td>\n",
              "      <td>0.2028</td>\n",
              "      <td>0.3788</td>\n",
              "      <td>0.2947</td>\n",
              "      <td>0.1984</td>\n",
              "      <td>0.2341</td>\n",
              "      <td>0.1306</td>\n",
              "      <td>0.4182</td>\n",
              "      <td>0.3835</td>\n",
              "      <td>0.1057</td>\n",
              "      <td>0.1840</td>\n",
              "      <td>0.1970</td>\n",
              "      <td>0.1674</td>\n",
              "      <td>0.0583</td>\n",
              "      <td>0.1401</td>\n",
              "      <td>0.1628</td>\n",
              "      <td>0.0621</td>\n",
              "      <td>0.0203</td>\n",
              "      <td>0.0530</td>\n",
              "      <td>0.0742</td>\n",
              "      <td>0.0409</td>\n",
              "      <td>0.0061</td>\n",
              "      <td>0.0125</td>\n",
              "      <td>0.0084</td>\n",
              "      <td>0.0089</td>\n",
              "      <td>0.0048</td>\n",
              "      <td>0.0094</td>\n",
              "      <td>0.0191</td>\n",
              "      <td>0.0140</td>\n",
              "      <td>0.0049</td>\n",
              "      <td>0.0052</td>\n",
              "      <td>0.0044</td>\n",
              "      <td>R</td>\n",
              "    </tr>\n",
              "    <tr>\n",
              "      <th>2</th>\n",
              "      <td>0.0262</td>\n",
              "      <td>0.0582</td>\n",
              "      <td>0.1099</td>\n",
              "      <td>0.1083</td>\n",
              "      <td>0.0974</td>\n",
              "      <td>0.2280</td>\n",
              "      <td>0.2431</td>\n",
              "      <td>0.3771</td>\n",
              "      <td>0.5598</td>\n",
              "      <td>0.6194</td>\n",
              "      <td>0.6333</td>\n",
              "      <td>0.7060</td>\n",
              "      <td>0.5544</td>\n",
              "      <td>0.5320</td>\n",
              "      <td>0.6479</td>\n",
              "      <td>0.6931</td>\n",
              "      <td>0.6759</td>\n",
              "      <td>0.7551</td>\n",
              "      <td>0.8929</td>\n",
              "      <td>0.8619</td>\n",
              "      <td>0.7974</td>\n",
              "      <td>0.6737</td>\n",
              "      <td>0.4293</td>\n",
              "      <td>0.3648</td>\n",
              "      <td>0.5331</td>\n",
              "      <td>0.2413</td>\n",
              "      <td>0.5070</td>\n",
              "      <td>0.8533</td>\n",
              "      <td>0.6036</td>\n",
              "      <td>0.8514</td>\n",
              "      <td>0.8512</td>\n",
              "      <td>0.5045</td>\n",
              "      <td>0.1862</td>\n",
              "      <td>0.2709</td>\n",
              "      <td>0.4232</td>\n",
              "      <td>0.3043</td>\n",
              "      <td>0.6116</td>\n",
              "      <td>0.6756</td>\n",
              "      <td>0.5375</td>\n",
              "      <td>0.4719</td>\n",
              "      <td>0.4647</td>\n",
              "      <td>0.2587</td>\n",
              "      <td>0.2129</td>\n",
              "      <td>0.2222</td>\n",
              "      <td>0.2111</td>\n",
              "      <td>0.0176</td>\n",
              "      <td>0.1348</td>\n",
              "      <td>0.0744</td>\n",
              "      <td>0.0130</td>\n",
              "      <td>0.0106</td>\n",
              "      <td>0.0033</td>\n",
              "      <td>0.0232</td>\n",
              "      <td>0.0166</td>\n",
              "      <td>0.0095</td>\n",
              "      <td>0.0180</td>\n",
              "      <td>0.0244</td>\n",
              "      <td>0.0316</td>\n",
              "      <td>0.0164</td>\n",
              "      <td>0.0095</td>\n",
              "      <td>0.0078</td>\n",
              "      <td>R</td>\n",
              "    </tr>\n",
              "  </tbody>\n",
              "</table>\n",
              "</div>"
            ],
            "text/plain": [
              "       0       1       2       3       4   ...      56      57      58      59  60\n",
              "0  0.0200  0.0371  0.0428  0.0207  0.0954  ...  0.0180  0.0084  0.0090  0.0032   R\n",
              "1  0.0453  0.0523  0.0843  0.0689  0.1183  ...  0.0140  0.0049  0.0052  0.0044   R\n",
              "2  0.0262  0.0582  0.1099  0.1083  0.0974  ...  0.0316  0.0164  0.0095  0.0078   R\n",
              "\n",
              "[3 rows x 61 columns]"
            ]
          },
          "metadata": {
            "tags": []
          },
          "execution_count": 5
        }
      ]
    },
    {
      "cell_type": "code",
      "metadata": {
        "colab": {
          "base_uri": "https://localhost:8080/"
        },
        "id": "G8Yrx6a7M-Ky",
        "outputId": "df465b87-28b8-4439-bcc5-a90a1c6ebcc4"
      },
      "source": [
        "df[60].unique() \r\n",
        "#타겟은 2가지 array(['R', 'M'], dtype=object)"
      ],
      "execution_count": null,
      "outputs": [
        {
          "output_type": "execute_result",
          "data": {
            "text/plain": [
              "array(['R', 'M'], dtype=object)"
            ]
          },
          "metadata": {
            "tags": []
          },
          "execution_count": 6
        }
      ]
    },
    {
      "cell_type": "code",
      "metadata": {
        "colab": {
          "base_uri": "https://localhost:8080/"
        },
        "id": "qgjJUqTtM-Nm",
        "outputId": "9d0d449c-abb8-4f67-f99a-5ff6fa75c4a5"
      },
      "source": [
        "#원핫인코딩말고 레이블인코딩\r\n",
        "from sklearn.preprocessing import LabelEncoder\r\n",
        "le = LabelEncoder()\r\n",
        "y_encoded = le.fit_transform(df[60].values)\r\n",
        "y_encoded[95:100]\r\n",
        "#array([1, 1, 0, 0, 0])"
      ],
      "execution_count": null,
      "outputs": [
        {
          "output_type": "execute_result",
          "data": {
            "text/plain": [
              "array([1, 1, 0, 0, 0])"
            ]
          },
          "metadata": {
            "tags": []
          },
          "execution_count": 7
        }
      ]
    },
    {
      "cell_type": "code",
      "metadata": {
        "colab": {
          "base_uri": "https://localhost:8080/"
        },
        "id": "lqWqNSelM-TF",
        "outputId": "91d31ba6-9fe5-4b37-bb6b-fd7470e8e303"
      },
      "source": [
        "X = df.iloc[:, :-1].values\r\n",
        "X.shape\r\n",
        "#(208, 60)"
      ],
      "execution_count": null,
      "outputs": [
        {
          "output_type": "execute_result",
          "data": {
            "text/plain": [
              "(208, 60)"
            ]
          },
          "metadata": {
            "tags": []
          },
          "execution_count": 8
        }
      ]
    },
    {
      "cell_type": "markdown",
      "metadata": {
        "id": "_SkmncTDT7ma"
      },
      "source": [
        "### 과적합을피하는방법1. Train/Test Dataset으로 나누기"
      ]
    },
    {
      "cell_type": "code",
      "metadata": {
        "colab": {
          "base_uri": "https://localhost:8080/"
        },
        "id": "brEWSI0uURKT",
        "outputId": "d7c4377f-eb9a-4635-c8f6-d1a84768f133"
      },
      "source": [
        "from sklearn.model_selection import train_test_split\r\n",
        "X_train, X_test, y_train, y_test = train_test_split(\r\n",
        "    X, y_encoded, stratify=y_encoded, random_state=seed\r\n",
        ")\r\n",
        "\r\n",
        "X_train.shape, X_test.shape\r\n",
        "#((156, 60), (52, 60))"
      ],
      "execution_count": null,
      "outputs": [
        {
          "output_type": "execute_result",
          "data": {
            "text/plain": [
              "((156, 60), (52, 60))"
            ]
          },
          "metadata": {
            "tags": []
          },
          "execution_count": 10
        }
      ]
    },
    {
      "cell_type": "code",
      "metadata": {
        "colab": {
          "base_uri": "https://localhost:8080/"
        },
        "id": "DnzvXOCIURMx",
        "outputId": "b9c77263-5445-45dc-a10a-7a678dd7d8bb"
      },
      "source": [
        "from tensorflow.keras.models import Sequential\r\n",
        "from tensorflow.keras.layers import Dense\r\n",
        "model = Sequential()\r\n",
        "model.add(Dense(30, input_dim=60, activation='relu'))\r\n",
        "model.add(Dense(10, activation='relu'))\r\n",
        "model.add(Dense(1, activation='sigmoid'))\r\n",
        "model.summary()"
      ],
      "execution_count": null,
      "outputs": [
        {
          "output_type": "stream",
          "text": [
            "Model: \"sequential\"\n",
            "_________________________________________________________________\n",
            "Layer (type)                 Output Shape              Param #   \n",
            "=================================================================\n",
            "dense (Dense)                (None, 30)                1830      \n",
            "_________________________________________________________________\n",
            "dense_1 (Dense)              (None, 10)                310       \n",
            "_________________________________________________________________\n",
            "dense_2 (Dense)              (None, 1)                 11        \n",
            "=================================================================\n",
            "Total params: 2,151\n",
            "Trainable params: 2,151\n",
            "Non-trainable params: 0\n",
            "_________________________________________________________________\n"
          ],
          "name": "stdout"
        }
      ]
    },
    {
      "cell_type": "code",
      "metadata": {
        "id": "wr2bwDOwURPN"
      },
      "source": [
        "model.compile(loss='binary_crossentropy',\r\n",
        "              optimizer='adam', metrics=['accuracy'])"
      ],
      "execution_count": null,
      "outputs": []
    },
    {
      "cell_type": "code",
      "metadata": {
        "id": "t9ShzvplafsW"
      },
      "source": [
        "# 모델저장관련 환경설정\r\n",
        "import os #디렉토리명령어\r\n",
        "MODEL_DIR = './model/' #모델디렉토리\r\n",
        "if not os.path.exists(MODEL_DIR):#없으면만들어라\r\n",
        "    os.mkdir(MODEL_DIR)"
      ],
      "execution_count": null,
      "outputs": []
    },
    {
      "cell_type": "code",
      "metadata": {
        "colab": {
          "base_uri": "https://localhost:8080/"
        },
        "id": "O7boIXNqafvN",
        "outputId": "57db7129-a975-4fec-a31f-caac57dd9470"
      },
      "source": [
        "!ls -l"
      ],
      "execution_count": null,
      "outputs": [
        {
          "output_type": "stream",
          "text": [
            "total 96\n",
            "drwxr-xr-x 2 root root  4096 Feb 10 05:29 model\n",
            "drwxr-xr-x 1 root root  4096 Feb  4 15:26 sample_data\n",
            "-rw-r--r-- 1 root root 87776 Feb 10 05:26 sonar.csv\n"
          ],
          "name": "stdout"
        }
      ]
    },
    {
      "cell_type": "code",
      "metadata": {
        "id": "bykt7OOVafyA"
      },
      "source": [
        "# 모델 저장 조건 설정\r\n",
        "modelpath = MODEL_DIR + \"best{epoch:03d}-{val_loss:.4f}.hdf5\"\r\n",
        "\r\n",
        "from tensorflow.keras.callbacks import ModelCheckpoint, EarlyStopping\r\n",
        "checkpointer = ModelCheckpoint(filepath=modelpath, monitor='val_loss', \r\n",
        "                               verbose=1, save_best_only=True)\r\n",
        "early_stopping = EarlyStopping(monitor='val_loss', patience=30)\r\n",
        "#monitor='val_loss' 4가지중선택가능\r\n",
        "#verbose=1 최소한보여줌/ 0안보여줌/ 2다보여줌\r\n",
        "#save_best_only=True 물어보고이전보다좋으면저장, 아니면 모두다저장함;\r\n",
        "# 자동 중단 설정"
      ],
      "execution_count": null,
      "outputs": []
    },
    {
      "cell_type": "code",
      "metadata": {
        "id": "_7A_HKtMURR0",
        "colab": {
          "base_uri": "https://localhost:8080/"
        },
        "outputId": "0cbbab4a-c4c5-42d8-cb2a-a9b660089d13"
      },
      "source": [
        "history = model.fit(X_train, y_train, validation_split=0.2, batch_size=10, epochs=200, \r\n",
        "                    verbose=0, callbacks=[checkpointer, early_stopping]) "
      ],
      "execution_count": null,
      "outputs": [
        {
          "output_type": "stream",
          "text": [
            "\n",
            "Epoch 00001: val_loss improved from inf to 0.69731, saving model to ./model/best001-0.6973.hdf5\n",
            "\n",
            "Epoch 00002: val_loss improved from 0.69731 to 0.68787, saving model to ./model/best002-0.6879.hdf5\n",
            "\n",
            "Epoch 00003: val_loss did not improve from 0.68787\n",
            "\n",
            "Epoch 00004: val_loss improved from 0.68787 to 0.68655, saving model to ./model/best004-0.6866.hdf5\n",
            "\n",
            "Epoch 00005: val_loss improved from 0.68655 to 0.67902, saving model to ./model/best005-0.6790.hdf5\n",
            "\n",
            "Epoch 00006: val_loss did not improve from 0.67902\n",
            "\n",
            "Epoch 00007: val_loss improved from 0.67902 to 0.67329, saving model to ./model/best007-0.6733.hdf5\n",
            "\n",
            "Epoch 00008: val_loss improved from 0.67329 to 0.66966, saving model to ./model/best008-0.6697.hdf5\n",
            "\n",
            "Epoch 00009: val_loss improved from 0.66966 to 0.66496, saving model to ./model/best009-0.6650.hdf5\n",
            "\n",
            "Epoch 00010: val_loss improved from 0.66496 to 0.66259, saving model to ./model/best010-0.6626.hdf5\n",
            "\n",
            "Epoch 00011: val_loss improved from 0.66259 to 0.65587, saving model to ./model/best011-0.6559.hdf5\n",
            "\n",
            "Epoch 00012: val_loss improved from 0.65587 to 0.64855, saving model to ./model/best012-0.6485.hdf5\n",
            "\n",
            "Epoch 00013: val_loss improved from 0.64855 to 0.63853, saving model to ./model/best013-0.6385.hdf5\n",
            "\n",
            "Epoch 00014: val_loss improved from 0.63853 to 0.62637, saving model to ./model/best014-0.6264.hdf5\n",
            "\n",
            "Epoch 00015: val_loss improved from 0.62637 to 0.61191, saving model to ./model/best015-0.6119.hdf5\n",
            "\n",
            "Epoch 00016: val_loss improved from 0.61191 to 0.58588, saving model to ./model/best016-0.5859.hdf5\n",
            "\n",
            "Epoch 00017: val_loss improved from 0.58588 to 0.56324, saving model to ./model/best017-0.5632.hdf5\n",
            "\n",
            "Epoch 00018: val_loss improved from 0.56324 to 0.54738, saving model to ./model/best018-0.5474.hdf5\n",
            "\n",
            "Epoch 00019: val_loss improved from 0.54738 to 0.53275, saving model to ./model/best019-0.5328.hdf5\n",
            "\n",
            "Epoch 00020: val_loss improved from 0.53275 to 0.52531, saving model to ./model/best020-0.5253.hdf5\n",
            "\n",
            "Epoch 00021: val_loss improved from 0.52531 to 0.51008, saving model to ./model/best021-0.5101.hdf5\n",
            "\n",
            "Epoch 00022: val_loss improved from 0.51008 to 0.50275, saving model to ./model/best022-0.5027.hdf5\n",
            "\n",
            "Epoch 00023: val_loss improved from 0.50275 to 0.49509, saving model to ./model/best023-0.4951.hdf5\n",
            "\n",
            "Epoch 00024: val_loss improved from 0.49509 to 0.48747, saving model to ./model/best024-0.4875.hdf5\n",
            "\n",
            "Epoch 00025: val_loss improved from 0.48747 to 0.48037, saving model to ./model/best025-0.4804.hdf5\n",
            "\n",
            "Epoch 00026: val_loss improved from 0.48037 to 0.47153, saving model to ./model/best026-0.4715.hdf5\n",
            "\n",
            "Epoch 00027: val_loss improved from 0.47153 to 0.46997, saving model to ./model/best027-0.4700.hdf5\n",
            "\n",
            "Epoch 00028: val_loss improved from 0.46997 to 0.45944, saving model to ./model/best028-0.4594.hdf5\n",
            "\n",
            "Epoch 00029: val_loss did not improve from 0.45944\n",
            "\n",
            "Epoch 00030: val_loss did not improve from 0.45944\n",
            "\n",
            "Epoch 00031: val_loss improved from 0.45944 to 0.45006, saving model to ./model/best031-0.4501.hdf5\n",
            "\n",
            "Epoch 00032: val_loss improved from 0.45006 to 0.44841, saving model to ./model/best032-0.4484.hdf5\n",
            "\n",
            "Epoch 00033: val_loss improved from 0.44841 to 0.43410, saving model to ./model/best033-0.4341.hdf5\n",
            "\n",
            "Epoch 00034: val_loss did not improve from 0.43410\n",
            "\n",
            "Epoch 00035: val_loss did not improve from 0.43410\n",
            "\n",
            "Epoch 00036: val_loss did not improve from 0.43410\n",
            "\n",
            "Epoch 00037: val_loss did not improve from 0.43410\n",
            "\n",
            "Epoch 00038: val_loss did not improve from 0.43410\n",
            "\n",
            "Epoch 00039: val_loss improved from 0.43410 to 0.43105, saving model to ./model/best039-0.4311.hdf5\n",
            "\n",
            "Epoch 00040: val_loss improved from 0.43105 to 0.42895, saving model to ./model/best040-0.4289.hdf5\n",
            "\n",
            "Epoch 00041: val_loss did not improve from 0.42895\n",
            "\n",
            "Epoch 00042: val_loss did not improve from 0.42895\n",
            "\n",
            "Epoch 00043: val_loss improved from 0.42895 to 0.42542, saving model to ./model/best043-0.4254.hdf5\n",
            "\n",
            "Epoch 00044: val_loss did not improve from 0.42542\n",
            "\n",
            "Epoch 00045: val_loss improved from 0.42542 to 0.41647, saving model to ./model/best045-0.4165.hdf5\n",
            "\n",
            "Epoch 00046: val_loss did not improve from 0.41647\n",
            "\n",
            "Epoch 00047: val_loss improved from 0.41647 to 0.41597, saving model to ./model/best047-0.4160.hdf5\n",
            "\n",
            "Epoch 00048: val_loss improved from 0.41597 to 0.41435, saving model to ./model/best048-0.4143.hdf5\n",
            "\n",
            "Epoch 00049: val_loss improved from 0.41435 to 0.40593, saving model to ./model/best049-0.4059.hdf5\n",
            "\n",
            "Epoch 00050: val_loss did not improve from 0.40593\n",
            "\n",
            "Epoch 00051: val_loss did not improve from 0.40593\n",
            "\n",
            "Epoch 00052: val_loss improved from 0.40593 to 0.40205, saving model to ./model/best052-0.4021.hdf5\n",
            "\n",
            "Epoch 00053: val_loss did not improve from 0.40205\n",
            "\n",
            "Epoch 00054: val_loss did not improve from 0.40205\n",
            "\n",
            "Epoch 00055: val_loss improved from 0.40205 to 0.40036, saving model to ./model/best055-0.4004.hdf5\n",
            "\n",
            "Epoch 00056: val_loss improved from 0.40036 to 0.39881, saving model to ./model/best056-0.3988.hdf5\n",
            "\n",
            "Epoch 00057: val_loss improved from 0.39881 to 0.39368, saving model to ./model/best057-0.3937.hdf5\n",
            "\n",
            "Epoch 00058: val_loss did not improve from 0.39368\n",
            "\n",
            "Epoch 00059: val_loss did not improve from 0.39368\n",
            "\n",
            "Epoch 00060: val_loss improved from 0.39368 to 0.39195, saving model to ./model/best060-0.3920.hdf5\n",
            "\n",
            "Epoch 00061: val_loss improved from 0.39195 to 0.38753, saving model to ./model/best061-0.3875.hdf5\n",
            "\n",
            "Epoch 00062: val_loss did not improve from 0.38753\n",
            "\n",
            "Epoch 00063: val_loss did not improve from 0.38753\n",
            "\n",
            "Epoch 00064: val_loss did not improve from 0.38753\n",
            "\n",
            "Epoch 00065: val_loss did not improve from 0.38753\n",
            "\n",
            "Epoch 00066: val_loss improved from 0.38753 to 0.38719, saving model to ./model/best066-0.3872.hdf5\n",
            "\n",
            "Epoch 00067: val_loss did not improve from 0.38719\n",
            "\n",
            "Epoch 00068: val_loss did not improve from 0.38719\n",
            "\n",
            "Epoch 00069: val_loss did not improve from 0.38719\n",
            "\n",
            "Epoch 00070: val_loss did not improve from 0.38719\n",
            "\n",
            "Epoch 00071: val_loss did not improve from 0.38719\n",
            "\n",
            "Epoch 00072: val_loss improved from 0.38719 to 0.38094, saving model to ./model/best072-0.3809.hdf5\n",
            "\n",
            "Epoch 00073: val_loss did not improve from 0.38094\n",
            "\n",
            "Epoch 00074: val_loss did not improve from 0.38094\n",
            "\n",
            "Epoch 00075: val_loss did not improve from 0.38094\n",
            "\n",
            "Epoch 00076: val_loss did not improve from 0.38094\n",
            "\n",
            "Epoch 00077: val_loss did not improve from 0.38094\n",
            "\n",
            "Epoch 00078: val_loss did not improve from 0.38094\n",
            "\n",
            "Epoch 00079: val_loss did not improve from 0.38094\n",
            "\n",
            "Epoch 00080: val_loss did not improve from 0.38094\n",
            "\n",
            "Epoch 00081: val_loss did not improve from 0.38094\n",
            "\n",
            "Epoch 00082: val_loss did not improve from 0.38094\n",
            "\n",
            "Epoch 00083: val_loss did not improve from 0.38094\n",
            "\n",
            "Epoch 00084: val_loss did not improve from 0.38094\n",
            "\n",
            "Epoch 00085: val_loss did not improve from 0.38094\n",
            "\n",
            "Epoch 00086: val_loss improved from 0.38094 to 0.37802, saving model to ./model/best086-0.3780.hdf5\n",
            "\n",
            "Epoch 00087: val_loss did not improve from 0.37802\n",
            "\n",
            "Epoch 00088: val_loss did not improve from 0.37802\n",
            "\n",
            "Epoch 00089: val_loss did not improve from 0.37802\n",
            "\n",
            "Epoch 00090: val_loss improved from 0.37802 to 0.37228, saving model to ./model/best090-0.3723.hdf5\n",
            "\n",
            "Epoch 00091: val_loss did not improve from 0.37228\n",
            "\n",
            "Epoch 00092: val_loss did not improve from 0.37228\n",
            "\n",
            "Epoch 00093: val_loss did not improve from 0.37228\n",
            "\n",
            "Epoch 00094: val_loss did not improve from 0.37228\n",
            "\n",
            "Epoch 00095: val_loss did not improve from 0.37228\n",
            "\n",
            "Epoch 00096: val_loss did not improve from 0.37228\n",
            "\n",
            "Epoch 00097: val_loss did not improve from 0.37228\n",
            "\n",
            "Epoch 00098: val_loss did not improve from 0.37228\n",
            "\n",
            "Epoch 00099: val_loss did not improve from 0.37228\n",
            "\n",
            "Epoch 00100: val_loss did not improve from 0.37228\n",
            "\n",
            "Epoch 00101: val_loss did not improve from 0.37228\n",
            "\n",
            "Epoch 00102: val_loss did not improve from 0.37228\n",
            "\n",
            "Epoch 00103: val_loss did not improve from 0.37228\n",
            "\n",
            "Epoch 00104: val_loss did not improve from 0.37228\n",
            "\n",
            "Epoch 00105: val_loss did not improve from 0.37228\n",
            "\n",
            "Epoch 00106: val_loss did not improve from 0.37228\n",
            "\n",
            "Epoch 00107: val_loss did not improve from 0.37228\n",
            "\n",
            "Epoch 00108: val_loss did not improve from 0.37228\n",
            "\n",
            "Epoch 00109: val_loss did not improve from 0.37228\n",
            "\n",
            "Epoch 00110: val_loss did not improve from 0.37228\n",
            "\n",
            "Epoch 00111: val_loss did not improve from 0.37228\n",
            "\n",
            "Epoch 00112: val_loss did not improve from 0.37228\n",
            "\n",
            "Epoch 00113: val_loss did not improve from 0.37228\n",
            "\n",
            "Epoch 00114: val_loss did not improve from 0.37228\n",
            "\n",
            "Epoch 00115: val_loss did not improve from 0.37228\n",
            "\n",
            "Epoch 00116: val_loss did not improve from 0.37228\n",
            "\n",
            "Epoch 00117: val_loss did not improve from 0.37228\n",
            "\n",
            "Epoch 00118: val_loss did not improve from 0.37228\n",
            "\n",
            "Epoch 00119: val_loss did not improve from 0.37228\n",
            "\n",
            "Epoch 00120: val_loss did not improve from 0.37228\n"
          ],
          "name": "stdout"
        }
      ]
    },
    {
      "cell_type": "code",
      "metadata": {
        "colab": {
          "base_uri": "https://localhost:8080/"
        },
        "id": "WRMTRmSYURUT",
        "outputId": "e3f5fb9f-af07-48fd-9402-dcc42fb8a559"
      },
      "source": [
        "#잘못된평가? 베스트모델로한것이아님\r\n",
        "acc = model.evaluate(X_test, y_test)\r\n",
        "print(f'Accuracy: {acc[1]:.4f}')\r\n",
        "#Accuracy: 0.7885\r\n",
        "#위에서 validation_split넣으니 0.8269로 올라감\r\n",
        "#은닉층갯수,은닉층조절하니 0.8077 되려떨어짐 ㅠㅠ?"
      ],
      "execution_count": null,
      "outputs": [
        {
          "output_type": "stream",
          "text": [
            "2/2 [==============================] - 0s 5ms/step - loss: 0.3968 - accuracy: 0.8077\n",
            "Accuracy: 0.8077\n"
          ],
          "name": "stdout"
        }
      ]
    },
    {
      "cell_type": "code",
      "metadata": {
        "colab": {
          "base_uri": "https://localhost:8080/"
        },
        "id": "tqe7aqTEa3KU",
        "outputId": "49555cd2-b80c-48e8-d077-2f51c56ee15a"
      },
      "source": [
        "#베스트모델로평가해도 0.8269예전정확도복구된듯 \r\n",
        "from tensorflow.keras.models import load_model\r\n",
        "\r\n",
        "best_model = load_model('./model/best090-0.3723.hdf5') \r\n",
        "acc = best_model.evaluate(X_test, y_test) \r\n",
        "print(f'Accuracy: {acc[1]:.4f}')"
      ],
      "execution_count": null,
      "outputs": [
        {
          "output_type": "stream",
          "text": [
            "2/2 [==============================] - 0s 3ms/step - loss: 0.3842 - accuracy: 0.8269\n",
            "Accuracy: 0.8269\n"
          ],
          "name": "stdout"
        }
      ]
    },
    {
      "cell_type": "markdown",
      "metadata": {
        "id": "0_PZTInhXI4B"
      },
      "source": [
        "### 시각화"
      ]
    },
    {
      "cell_type": "code",
      "metadata": {
        "id": "GpQl8hN_bDwd"
      },
      "source": [
        "import matplotlib.pyplot as plt\r\n",
        "%matplotlib inline"
      ],
      "execution_count": null,
      "outputs": []
    },
    {
      "cell_type": "code",
      "metadata": {
        "id": "eplddhFHbD1P"
      },
      "source": [
        "y_vloss=history.history['val_loss'] # y_vloss에 테스트셋으로 실험 결과의 오차 값을 저장\r\n",
        "y_acc=history.history['accuracy'] # y_acc에 학습셋으로 측정한 정확도의 값을 저장\r\n",
        "y_vacc=history.history['val_accuracy']\r\n",
        "y_loss=history.history['loss']"
      ],
      "execution_count": null,
      "outputs": []
    },
    {
      "cell_type": "code",
      "metadata": {
        "colab": {
          "base_uri": "https://localhost:8080/",
          "height": 483
        },
        "id": "xyOft-WP4afU",
        "outputId": "43130255-2994-4429-af11-58c7e24c1048"
      },
      "source": [
        "x_len = np.arange(len(y_acc))\r\n",
        "plt.figure(figsize=(12,8))\r\n",
        "plt.plot(x_len, y_loss, \"o-\", c=\"red\", markersize=2, label='loss')\r\n",
        "plt.plot(x_len, y_vacc, \"o\", c=\"blue\", markersize=2, label='val_accuracy')\r\n",
        "plt.plot(x_len, y_vloss, \"o-\", c=\"orange\", markersize=2, label='val_loss')\r\n",
        "plt.plot(x_len, y_acc, \"o\", c=\"green\", markersize=2, label='accuracy')\r\n",
        "plt.legend()\r\n",
        "plt.show()"
      ],
      "execution_count": null,
      "outputs": [
        {
          "output_type": "display_data",
          "data": {
            "image/png": "[encoded data removed]",
            "text/plain": [
              "<Figure size 864x576 with 1 Axes>"
            ]
          },
          "metadata": {
            "tags": [],
            "needs_background": "light"
          }
        }
      ]
    }
  ]
}