{
  "nbformat": 4,
  "nbformat_minor": 0,
  "metadata": {
    "colab": {
      "name": "01_ColabExercise.ipynb",
      "provenance": [],
      "collapsed_sections": [],
      "toc_visible": true
    },
    "kernelspec": {
      "name": "python3",
      "display_name": "Python 3"
    }
  },
  "cells": [
    {
      "cell_type": "markdown",
      "metadata": {
        "id": "kzkT9ch4HuRU"
      },
      "source": [
        "# Colab 연습"
      ]
    },
    {
      "cell_type": "code",
      "metadata": {
        "colab": {
          "base_uri": "https://localhost:8080/"
        },
        "id": "DQwlMC6XHy6M",
        "outputId": "50068304-486a-4eea-e78b-e6805a146203"
      },
      "source": [
        "!cat /etc/issue.net #지금나의시스템확인"
      ],
      "execution_count": 2,
      "outputs": [
        {
          "output_type": "stream",
          "text": [
            "Ubuntu 18.04.5 LTS\n"
          ],
          "name": "stdout"
        }
      ]
    },
    {
      "cell_type": "code",
      "metadata": {
        "colab": {
          "base_uri": "https://localhost:8080/"
        },
        "id": "3JKipxu4JCok",
        "outputId": "683ae961-b272-4ecb-d015-1365a778f3c2"
      },
      "source": [
        "!head /proc/cpuinfo #Xeon79 CPU구나..."
      ],
      "execution_count": 3,
      "outputs": [
        {
          "output_type": "stream",
          "text": [
            "processor\t: 0\n",
            "vendor_id\t: GenuineIntel\n",
            "cpu family\t: 6\n",
            "model\t\t: 63\n",
            "model name\t: Intel(R) Xeon(R) CPU @ 2.30GHz\n",
            "stepping\t: 0\n",
            "microcode\t: 0x1\n",
            "cpu MHz\t\t: 2299.998\n",
            "cache size\t: 46080 KB\n",
            "physical id\t: 0\n"
          ],
          "name": "stdout"
        }
      ]
    },
    {
      "cell_type": "code",
      "metadata": {
        "colab": {
          "base_uri": "https://localhost:8080/"
        },
        "id": "GFhlOXMmJUHj",
        "outputId": "9a95ff8a-0a96-4e99-e913-ca22e02de75b"
      },
      "source": [
        "!head -n 3 /proc/meminfo #메모리용량확인"
      ],
      "execution_count": 4,
      "outputs": [
        {
          "output_type": "stream",
          "text": [
            "MemTotal:       13333596 kB\n",
            "MemFree:         1772336 kB\n",
            "MemAvailable:    3428236 kB\n"
          ],
          "name": "stdout"
        }
      ]
    },
    {
      "cell_type": "code",
      "metadata": {
        "colab": {
          "base_uri": "https://localhost:8080/"
        },
        "id": "tS8GLselJwJD",
        "outputId": "f1407ac5-393a-41c5-fae4-14d525d417e0"
      },
      "source": [
        "!nvidia-smi #이따 GPU로 바꾸면 나옴"
      ],
      "execution_count": 5,
      "outputs": [
        {
          "output_type": "stream",
          "text": [
            "NVIDIA-SMI has failed because it couldn't communicate with the NVIDIA driver. Make sure that the latest NVIDIA driver is installed and running.\n",
            "\n"
          ],
          "name": "stdout"
        }
      ]
    },
    {
      "cell_type": "code",
      "metadata": {
        "colab": {
          "base_uri": "https://localhost:8080/"
        },
        "id": "wqh4OCaLJ9t7",
        "outputId": "37e5053b-5ae4-4625-eb5d-67af13d044c7"
      },
      "source": [
        "!pwd #지금 위치"
      ],
      "execution_count": 6,
      "outputs": [
        {
          "output_type": "stream",
          "text": [
            "/content\n"
          ],
          "name": "stdout"
        }
      ]
    },
    {
      "cell_type": "code",
      "metadata": {
        "colab": {
          "base_uri": "https://localhost:8080/"
        },
        "id": "qC8kcAX2Knnj",
        "outputId": "71f2135b-92d6-4962-d03d-b68d51eb7b73"
      },
      "source": [
        "!ls -l #sample_data폴더가 만들어져있다"
      ],
      "execution_count": 7,
      "outputs": [
        {
          "output_type": "stream",
          "text": [
            "total 4\n",
            "drwxr-xr-x 1 root root 4096 Feb  4 15:26 sample_data\n"
          ],
          "name": "stdout"
        }
      ]
    },
    {
      "cell_type": "code",
      "metadata": {
        "colab": {
          "base_uri": "https://localhost:8080/"
        },
        "id": "qyyTP9h3Kt-D",
        "outputId": "b956b90c-e19a-4617-dad9-1811ba78d622"
      },
      "source": [
        "!ls -l sample_data #폴더내용을보자~"
      ],
      "execution_count": 8,
      "outputs": [
        {
          "output_type": "stream",
          "text": [
            "total 55504\n",
            "-rwxr-xr-x 1 root root     1697 Jan  1  2000 anscombe.json\n",
            "-rw-r--r-- 1 root root   301141 Feb  4 15:26 california_housing_test.csv\n",
            "-rw-r--r-- 1 root root  1706430 Feb  4 15:26 california_housing_train.csv\n",
            "-rw-r--r-- 1 root root 18289443 Feb  4 15:26 mnist_test.csv\n",
            "-rw-r--r-- 1 root root 36523880 Feb  4 15:26 mnist_train_small.csv\n",
            "-rwxr-xr-x 1 root root      930 Jan  1  2000 README.md\n"
          ],
          "name": "stdout"
        }
      ]
    },
    {
      "cell_type": "code",
      "metadata": {
        "colab": {
          "base_uri": "https://localhost:8080/"
        },
        "id": "uZwIxVI8K4Ia",
        "outputId": "a79b17c3-42c1-49d3-cd8b-00c7b4843edb"
      },
      "source": [
        "!cat sample_data/README.md #파일내용보기"
      ],
      "execution_count": 9,
      "outputs": [
        {
          "output_type": "stream",
          "text": [
            "This directory includes a few sample datasets to get you started.\n",
            "\n",
            "*   `california_housing_data*.csv` is California housing data from the 1990 US\n",
            "    Census; more information is available at:\n",
            "    https://developers.google.com/machine-learning/crash-course/california-housing-data-description\n",
            "\n",
            "*   `mnist_*.csv` is a small sample of the\n",
            "    [MNIST database](https://en.wikipedia.org/wiki/MNIST_database), which is\n",
            "    described at: http://yann.lecun.com/exdb/mnist/\n",
            "\n",
            "*   `anscombe.json` contains a copy of\n",
            "    [Anscombe's quartet](https://en.wikipedia.org/wiki/Anscombe%27s_quartet); it\n",
            "    was originally described in\n",
            "\n",
            "    Anscombe, F. J. (1973). 'Graphs in Statistical Analysis'. American\n",
            "    Statistician. 27 (1): 17-21. JSTOR 2682899.\n",
            "\n",
            "    and our copy was prepared by the\n",
            "    [vega_datasets library](https://github.com/altair-viz/vega_datasets/blob/4f67bdaad10f45e3549984e17e1b3088c731503d/vega_datasets/_data/anscombe.json).\n"
          ],
          "name": "stdout"
        }
      ]
    },
    {
      "cell_type": "code",
      "metadata": {
        "colab": {
          "base_uri": "https://localhost:8080/"
        },
        "id": "rmeEfVAaLNNC",
        "outputId": "27396167-ec33-4fd1-9e15-d8d24780da1f"
      },
      "source": [
        "!python --version #현pc는 3.8.3인데 여기는 3.6.9구버전(똑같이f-string을 쓸수있다) 3.6ver이상부터~"
      ],
      "execution_count": 10,
      "outputs": [
        {
          "output_type": "stream",
          "text": [
            "Python 3.6.9\n"
          ],
          "name": "stdout"
        }
      ]
    },
    {
      "cell_type": "code",
      "metadata": {
        "colab": {
          "base_uri": "https://localhost:8080/",
          "height": 35
        },
        "id": "iV_L_DKQLYcS",
        "outputId": "fc5b070f-4f0d-45cd-977f-a45cd5bdc75b"
      },
      "source": [
        "import tensorflow as tf\r\n",
        "tf.__version__  #2.4.1 초반1대의버전보다는 훨 좋다;"
      ],
      "execution_count": 12,
      "outputs": [
        {
          "output_type": "execute_result",
          "data": {
            "application/vnd.google.colaboratory.intrinsic+json": {
              "type": "string"
            },
            "text/plain": [
              "'2.4.1'"
            ]
          },
          "metadata": {
            "tags": []
          },
          "execution_count": 12
        }
      ]
    },
    {
      "cell_type": "code",
      "metadata": {
        "colab": {
          "base_uri": "https://localhost:8080/",
          "height": 35
        },
        "id": "C26yOQJvL0fS",
        "outputId": "ac74e7fc-aff9-4c9c-e507-7719bfc651dc"
      },
      "source": [
        "from tensorflow import keras\r\n",
        "keras.__version__ #2.4.0"
      ],
      "execution_count": 13,
      "outputs": [
        {
          "output_type": "execute_result",
          "data": {
            "application/vnd.google.colaboratory.intrinsic+json": {
              "type": "string"
            },
            "text/plain": [
              "'2.4.0'"
            ]
          },
          "metadata": {
            "tags": []
          },
          "execution_count": 13
        }
      ]
    },
    {
      "cell_type": "code",
      "metadata": {
        "colab": {
          "base_uri": "https://localhost:8080/"
        },
        "id": "-ms_sFPfMaoE",
        "outputId": "f88693c2-bb4a-48fa-eed4-2a3f1b5d6690"
      },
      "source": [
        "print('한글')"
      ],
      "execution_count": 14,
      "outputs": [
        {
          "output_type": "stream",
          "text": [
            "한글\n"
          ],
          "name": "stdout"
        }
      ]
    },
    {
      "cell_type": "code",
      "metadata": {
        "id": "Bo1e9luwMit8"
      },
      "source": [],
      "execution_count": null,
      "outputs": []
    },
    {
      "cell_type": "markdown",
      "metadata": {
        "id": "QClleGD3Ndnc"
      },
      "source": [
        "### MNIST 손글씨 분류"
      ]
    },
    {
      "cell_type": "markdown",
      "metadata": {
        "id": "4ziE7N5zNjlE"
      },
      "source": [
        "#### 1. Machine Learning (SVM)"
      ]
    },
    {
      "cell_type": "code",
      "metadata": {
        "colab": {
          "base_uri": "https://localhost:8080/",
          "height": 186
        },
        "id": "CSnmP_BlNqSa",
        "outputId": "7d628f7d-30a9-43e3-982b-da34626a0f56"
      },
      "source": [
        "import numpy as np\r\n",
        "import pandas as pd\r\n",
        "mnist = pd.read_csv('sample_data/mnist_train_small.csv', header=None) #헤더를 안주면 0인덱스줄이 헤더가 되버림!!! \r\n",
        "mnist.head(3)"
      ],
      "execution_count": 31,
      "outputs": [
        {
          "output_type": "execute_result",
          "data": {
            "text/html": [
              "<div>\n",
              "<style scoped>\n",
              "    .dataframe tbody tr th:only-of-type {\n",
              "        vertical-align: middle;\n",
              "    }\n",
              "\n",
              "    .dataframe tbody tr th {\n",
              "        vertical-align: top;\n",
              "    }\n",
              "\n",
              "    .dataframe thead th {\n",
              "        text-align: right;\n",
              "    }\n",
              "</style>\n",
              "<table border=\"1\" class=\"dataframe\">\n",
              "  <thead>\n",
              "    <tr style=\"text-align: right;\">\n",
              "      <th></th>\n",
              "      <th>0</th>\n",
              "      <th>1</th>\n",
              "      <th>2</th>\n",
              "      <th>3</th>\n",
              "      <th>4</th>\n",
              "      <th>5</th>\n",
              "      <th>6</th>\n",
              "      <th>7</th>\n",
              "      <th>8</th>\n",
              "      <th>9</th>\n",
              "      <th>10</th>\n",
              "      <th>11</th>\n",
              "      <th>12</th>\n",
              "      <th>13</th>\n",
              "      <th>14</th>\n",
              "      <th>15</th>\n",
              "      <th>16</th>\n",
              "      <th>17</th>\n",
              "      <th>18</th>\n",
              "      <th>19</th>\n",
              "      <th>20</th>\n",
              "      <th>21</th>\n",
              "      <th>22</th>\n",
              "      <th>23</th>\n",
              "      <th>24</th>\n",
              "      <th>25</th>\n",
              "      <th>26</th>\n",
              "      <th>27</th>\n",
              "      <th>28</th>\n",
              "      <th>29</th>\n",
              "      <th>30</th>\n",
              "      <th>31</th>\n",
              "      <th>32</th>\n",
              "      <th>33</th>\n",
              "      <th>34</th>\n",
              "      <th>35</th>\n",
              "      <th>36</th>\n",
              "      <th>37</th>\n",
              "      <th>38</th>\n",
              "      <th>39</th>\n",
              "      <th>...</th>\n",
              "      <th>745</th>\n",
              "      <th>746</th>\n",
              "      <th>747</th>\n",
              "      <th>748</th>\n",
              "      <th>749</th>\n",
              "      <th>750</th>\n",
              "      <th>751</th>\n",
              "      <th>752</th>\n",
              "      <th>753</th>\n",
              "      <th>754</th>\n",
              "      <th>755</th>\n",
              "      <th>756</th>\n",
              "      <th>757</th>\n",
              "      <th>758</th>\n",
              "      <th>759</th>\n",
              "      <th>760</th>\n",
              "      <th>761</th>\n",
              "      <th>762</th>\n",
              "      <th>763</th>\n",
              "      <th>764</th>\n",
              "      <th>765</th>\n",
              "      <th>766</th>\n",
              "      <th>767</th>\n",
              "      <th>768</th>\n",
              "      <th>769</th>\n",
              "      <th>770</th>\n",
              "      <th>771</th>\n",
              "      <th>772</th>\n",
              "      <th>773</th>\n",
              "      <th>774</th>\n",
              "      <th>775</th>\n",
              "      <th>776</th>\n",
              "      <th>777</th>\n",
              "      <th>778</th>\n",
              "      <th>779</th>\n",
              "      <th>780</th>\n",
              "      <th>781</th>\n",
              "      <th>782</th>\n",
              "      <th>783</th>\n",
              "      <th>784</th>\n",
              "    </tr>\n",
              "  </thead>\n",
              "  <tbody>\n",
              "    <tr>\n",
              "      <th>0</th>\n",
              "      <td>6</td>\n",
              "      <td>0</td>\n",
              "      <td>0</td>\n",
              "      <td>0</td>\n",
              "      <td>0</td>\n",
              "      <td>0</td>\n",
              "      <td>0</td>\n",
              "      <td>0</td>\n",
              "      <td>0</td>\n",
              "      <td>0</td>\n",
              "      <td>0</td>\n",
              "      <td>0</td>\n",
              "      <td>0</td>\n",
              "      <td>0</td>\n",
              "      <td>0</td>\n",
              "      <td>0</td>\n",
              "      <td>0</td>\n",
              "      <td>0</td>\n",
              "      <td>0</td>\n",
              "      <td>0</td>\n",
              "      <td>0</td>\n",
              "      <td>0</td>\n",
              "      <td>0</td>\n",
              "      <td>0</td>\n",
              "      <td>0</td>\n",
              "      <td>0</td>\n",
              "      <td>0</td>\n",
              "      <td>0</td>\n",
              "      <td>0</td>\n",
              "      <td>0</td>\n",
              "      <td>0</td>\n",
              "      <td>0</td>\n",
              "      <td>0</td>\n",
              "      <td>0</td>\n",
              "      <td>0</td>\n",
              "      <td>0</td>\n",
              "      <td>0</td>\n",
              "      <td>0</td>\n",
              "      <td>0</td>\n",
              "      <td>0</td>\n",
              "      <td>...</td>\n",
              "      <td>0</td>\n",
              "      <td>0</td>\n",
              "      <td>0</td>\n",
              "      <td>0</td>\n",
              "      <td>0</td>\n",
              "      <td>0</td>\n",
              "      <td>0</td>\n",
              "      <td>0</td>\n",
              "      <td>0</td>\n",
              "      <td>0</td>\n",
              "      <td>0</td>\n",
              "      <td>0</td>\n",
              "      <td>0</td>\n",
              "      <td>0</td>\n",
              "      <td>0</td>\n",
              "      <td>0</td>\n",
              "      <td>0</td>\n",
              "      <td>0</td>\n",
              "      <td>0</td>\n",
              "      <td>0</td>\n",
              "      <td>0</td>\n",
              "      <td>0</td>\n",
              "      <td>0</td>\n",
              "      <td>0</td>\n",
              "      <td>0</td>\n",
              "      <td>0</td>\n",
              "      <td>0</td>\n",
              "      <td>0</td>\n",
              "      <td>0</td>\n",
              "      <td>0</td>\n",
              "      <td>0</td>\n",
              "      <td>0</td>\n",
              "      <td>0</td>\n",
              "      <td>0</td>\n",
              "      <td>0</td>\n",
              "      <td>0</td>\n",
              "      <td>0</td>\n",
              "      <td>0</td>\n",
              "      <td>0</td>\n",
              "      <td>0</td>\n",
              "    </tr>\n",
              "    <tr>\n",
              "      <th>1</th>\n",
              "      <td>5</td>\n",
              "      <td>0</td>\n",
              "      <td>0</td>\n",
              "      <td>0</td>\n",
              "      <td>0</td>\n",
              "      <td>0</td>\n",
              "      <td>0</td>\n",
              "      <td>0</td>\n",
              "      <td>0</td>\n",
              "      <td>0</td>\n",
              "      <td>0</td>\n",
              "      <td>0</td>\n",
              "      <td>0</td>\n",
              "      <td>0</td>\n",
              "      <td>0</td>\n",
              "      <td>0</td>\n",
              "      <td>0</td>\n",
              "      <td>0</td>\n",
              "      <td>0</td>\n",
              "      <td>0</td>\n",
              "      <td>0</td>\n",
              "      <td>0</td>\n",
              "      <td>0</td>\n",
              "      <td>0</td>\n",
              "      <td>0</td>\n",
              "      <td>0</td>\n",
              "      <td>0</td>\n",
              "      <td>0</td>\n",
              "      <td>0</td>\n",
              "      <td>0</td>\n",
              "      <td>0</td>\n",
              "      <td>0</td>\n",
              "      <td>0</td>\n",
              "      <td>0</td>\n",
              "      <td>0</td>\n",
              "      <td>0</td>\n",
              "      <td>0</td>\n",
              "      <td>0</td>\n",
              "      <td>0</td>\n",
              "      <td>0</td>\n",
              "      <td>...</td>\n",
              "      <td>0</td>\n",
              "      <td>0</td>\n",
              "      <td>0</td>\n",
              "      <td>0</td>\n",
              "      <td>0</td>\n",
              "      <td>0</td>\n",
              "      <td>0</td>\n",
              "      <td>0</td>\n",
              "      <td>0</td>\n",
              "      <td>0</td>\n",
              "      <td>0</td>\n",
              "      <td>0</td>\n",
              "      <td>0</td>\n",
              "      <td>0</td>\n",
              "      <td>0</td>\n",
              "      <td>0</td>\n",
              "      <td>0</td>\n",
              "      <td>0</td>\n",
              "      <td>0</td>\n",
              "      <td>0</td>\n",
              "      <td>0</td>\n",
              "      <td>0</td>\n",
              "      <td>0</td>\n",
              "      <td>0</td>\n",
              "      <td>0</td>\n",
              "      <td>0</td>\n",
              "      <td>0</td>\n",
              "      <td>0</td>\n",
              "      <td>0</td>\n",
              "      <td>0</td>\n",
              "      <td>0</td>\n",
              "      <td>0</td>\n",
              "      <td>0</td>\n",
              "      <td>0</td>\n",
              "      <td>0</td>\n",
              "      <td>0</td>\n",
              "      <td>0</td>\n",
              "      <td>0</td>\n",
              "      <td>0</td>\n",
              "      <td>0</td>\n",
              "    </tr>\n",
              "    <tr>\n",
              "      <th>2</th>\n",
              "      <td>7</td>\n",
              "      <td>0</td>\n",
              "      <td>0</td>\n",
              "      <td>0</td>\n",
              "      <td>0</td>\n",
              "      <td>0</td>\n",
              "      <td>0</td>\n",
              "      <td>0</td>\n",
              "      <td>0</td>\n",
              "      <td>0</td>\n",
              "      <td>0</td>\n",
              "      <td>0</td>\n",
              "      <td>0</td>\n",
              "      <td>0</td>\n",
              "      <td>0</td>\n",
              "      <td>0</td>\n",
              "      <td>0</td>\n",
              "      <td>0</td>\n",
              "      <td>0</td>\n",
              "      <td>0</td>\n",
              "      <td>0</td>\n",
              "      <td>0</td>\n",
              "      <td>0</td>\n",
              "      <td>0</td>\n",
              "      <td>0</td>\n",
              "      <td>0</td>\n",
              "      <td>0</td>\n",
              "      <td>0</td>\n",
              "      <td>0</td>\n",
              "      <td>0</td>\n",
              "      <td>0</td>\n",
              "      <td>0</td>\n",
              "      <td>0</td>\n",
              "      <td>0</td>\n",
              "      <td>0</td>\n",
              "      <td>0</td>\n",
              "      <td>0</td>\n",
              "      <td>0</td>\n",
              "      <td>0</td>\n",
              "      <td>0</td>\n",
              "      <td>...</td>\n",
              "      <td>0</td>\n",
              "      <td>0</td>\n",
              "      <td>0</td>\n",
              "      <td>0</td>\n",
              "      <td>0</td>\n",
              "      <td>0</td>\n",
              "      <td>0</td>\n",
              "      <td>0</td>\n",
              "      <td>0</td>\n",
              "      <td>0</td>\n",
              "      <td>0</td>\n",
              "      <td>0</td>\n",
              "      <td>0</td>\n",
              "      <td>0</td>\n",
              "      <td>0</td>\n",
              "      <td>0</td>\n",
              "      <td>0</td>\n",
              "      <td>0</td>\n",
              "      <td>0</td>\n",
              "      <td>0</td>\n",
              "      <td>0</td>\n",
              "      <td>0</td>\n",
              "      <td>0</td>\n",
              "      <td>0</td>\n",
              "      <td>0</td>\n",
              "      <td>0</td>\n",
              "      <td>0</td>\n",
              "      <td>0</td>\n",
              "      <td>0</td>\n",
              "      <td>0</td>\n",
              "      <td>0</td>\n",
              "      <td>0</td>\n",
              "      <td>0</td>\n",
              "      <td>0</td>\n",
              "      <td>0</td>\n",
              "      <td>0</td>\n",
              "      <td>0</td>\n",
              "      <td>0</td>\n",
              "      <td>0</td>\n",
              "      <td>0</td>\n",
              "    </tr>\n",
              "  </tbody>\n",
              "</table>\n",
              "<p>3 rows × 785 columns</p>\n",
              "</div>"
            ],
            "text/plain": [
              "   0    1    2    3    4    5    6    ...  778  779  780  781  782  783  784\n",
              "0    6    0    0    0    0    0    0  ...    0    0    0    0    0    0    0\n",
              "1    5    0    0    0    0    0    0  ...    0    0    0    0    0    0    0\n",
              "2    7    0    0    0    0    0    0  ...    0    0    0    0    0    0    0\n",
              "\n",
              "[3 rows x 785 columns]"
            ]
          },
          "metadata": {
            "tags": []
          },
          "execution_count": 31
        }
      ]
    },
    {
      "cell_type": "code",
      "metadata": {
        "colab": {
          "base_uri": "https://localhost:8080/"
        },
        "id": "I4sCUnznRC07",
        "outputId": "70ecb4ba-a281-43fa-9026-58fae8a5d2ed"
      },
      "source": [
        "mnist.shape"
      ],
      "execution_count": 32,
      "outputs": [
        {
          "output_type": "execute_result",
          "data": {
            "text/plain": [
              "(20000, 785)"
            ]
          },
          "metadata": {
            "tags": []
          },
          "execution_count": 32
        }
      ]
    },
    {
      "cell_type": "code",
      "metadata": {
        "id": "eCMuDbNXRH58"
      },
      "source": [
        "from sklearn.svm import SVC\r\n",
        "from sklearn.model_selection import train_test_split\r\n",
        "from sklearn.metrics import accuracy_score"
      ],
      "execution_count": 33,
      "outputs": []
    },
    {
      "cell_type": "code",
      "metadata": {
        "colab": {
          "base_uri": "https://localhost:8080/"
        },
        "id": "_5FsEeVlRID5",
        "outputId": "29631727-d341-4c58-9583-263d50e52772"
      },
      "source": [
        "X_train, X_test, y_train, y_test = train_test_split(\r\n",
        "    mnist.iloc[:, 1:], mnist.iloc[:, 0], test_size=0.25, stratify=mnist.iloc[:,0], random_state=2021)\r\n",
        "X_train.shape, X_test.shape, y_train.shape, y_test.shape"
      ],
      "execution_count": 34,
      "outputs": [
        {
          "output_type": "execute_result",
          "data": {
            "text/plain": [
              "((15000, 784), (5000, 784), (15000,), (5000,))"
            ]
          },
          "metadata": {
            "tags": []
          },
          "execution_count": 34
        }
      ]
    },
    {
      "cell_type": "code",
      "metadata": {
        "id": "HC1DCKA1RIMU"
      },
      "source": [
        "#minmax scaler대신 나눠서\r\n",
        "X_train = X_train.astype('float')/255\r\n",
        "X_test = X_test.astype('float')/255"
      ],
      "execution_count": 35,
      "outputs": []
    },
    {
      "cell_type": "code",
      "metadata": {
        "colab": {
          "base_uri": "https://localhost:8080/"
        },
        "id": "WE1WxR8fRIU7",
        "outputId": "104876f0-f4eb-4678-c37c-2d14c22cd787"
      },
      "source": [
        "# 머신러닝은 GPU쓰나안쓰나 속도비슷; 하이퍼파라미터안만지고 그냥 모델생성했음;\r\n",
        "sv_clf = SVC()\r\n",
        "sv_clf.fit(X_train, y_train)"
      ],
      "execution_count": 36,
      "outputs": [
        {
          "output_type": "execute_result",
          "data": {
            "text/plain": [
              "SVC(C=1.0, break_ties=False, cache_size=200, class_weight=None, coef0=0.0,\n",
              "    decision_function_shape='ovr', degree=3, gamma='scale', kernel='rbf',\n",
              "    max_iter=-1, probability=False, random_state=None, shrinking=True,\n",
              "    tol=0.001, verbose=False)"
            ]
          },
          "metadata": {
            "tags": []
          },
          "execution_count": 36
        }
      ]
    },
    {
      "cell_type": "code",
      "metadata": {
        "colab": {
          "base_uri": "https://localhost:8080/"
        },
        "id": "6Lr2lUAjQucp",
        "outputId": "cafc8725-561b-4770-fca7-aa4a7a6b98f1"
      },
      "source": [
        "pred = sv_clf.predict(X_test)\r\n",
        "accuracy_score(y_test, pred)"
      ],
      "execution_count": 37,
      "outputs": [
        {
          "output_type": "execute_result",
          "data": {
            "text/plain": [
              "0.9714"
            ]
          },
          "metadata": {
            "tags": []
          },
          "execution_count": 37
        }
      ]
    },
    {
      "cell_type": "code",
      "metadata": {
        "id": "jBvp7Ik9S6Dh"
      },
      "source": [
        "import matplotlib.pyplot as plt\n",
        "%matplotlib inline\n",
        "#판다스니까 values로 넘파이로 바꾼다음에 reshape(28,28)\n",
        "digit = X_test.iloc[1000,:].values.reshape(28,28)\n",
        "plt.figure(figsize=(4,4))\n",
        "plt.xticks([]); plt.yticks([])\n",
        "plt.imshow(digit, cmap=plt.cm.binary, interpolation='nearest')\n",
        "plt.show()"
      ],
      "execution_count": null,
      "outputs": []
    },
    {
      "cell_type": "code",
      "metadata": {
        "id": "C_Zaic84TyeG"
      },
      "source": [],
      "execution_count": null,
      "outputs": []
    },
    {
      "cell_type": "markdown",
      "metadata": {
        "id": "Nlhs54mhTzFK"
      },
      "source": [
        "#### 2. Deep Learning"
      ]
    },
    {
      "cell_type": "code",
      "metadata": {
        "id": "dDC6zRzpUCWA"
      },
      "source": [
        "from tensorflow.keras.models import Sequential\r\n",
        "from tensorflow.keras.layers import Dense"
      ],
      "execution_count": 39,
      "outputs": []
    },
    {
      "cell_type": "code",
      "metadata": {
        "colab": {
          "base_uri": "https://localhost:8080/"
        },
        "id": "yDLgVtMuVBJQ",
        "outputId": "90e4e7dc-8a8d-45a0-c032-96fc2e846869"
      },
      "source": [
        "# One-hot Encoding 사이킷런말고 케라스에서원핫하는방법\r\n",
        "from tensorflow.keras.utils import to_categorical\r\n",
        "Y_train = to_categorical(y_train)\r\n",
        "Y_test = to_categorical(y_test)\r\n",
        "Y_train.shape, Y_test.shape"
      ],
      "execution_count": 40,
      "outputs": [
        {
          "output_type": "execute_result",
          "data": {
            "text/plain": [
              "((15000, 10), (5000, 10))"
            ]
          },
          "metadata": {
            "tags": []
          },
          "execution_count": 40
        }
      ]
    },
    {
      "cell_type": "code",
      "metadata": {
        "colab": {
          "base_uri": "https://localhost:8080/"
        },
        "id": "A9NLBHmwVk23",
        "outputId": "c3fdff06-42c1-4680-c469-a6e3680c690c"
      },
      "source": [
        "# Model 생성\r\n",
        "model = Sequential()\r\n",
        "model.add(Dense(512, input_shape=(784,), activation='relu')) #인풋:784개의 데이터를 받아서 512개로 풀리커넥티드네크웍이만들어짐;....\r\n",
        "model.add(Dense(100, activation='relu'))\r\n",
        "model.add(Dense(10, activation='softmax')) #또는 시그모이드  아웃풋10개\r\n",
        "model.summary() #784 * W512 + b512의 갯수 param 구하는게 딥러닝의 결과를 만들어낸다!? 단순계산반복 이럴때 GPU쓰면 속도빠름!"
      ],
      "execution_count": 42,
      "outputs": [
        {
          "output_type": "stream",
          "text": [
            "Model: \"sequential_1\"\n",
            "_________________________________________________________________\n",
            "Layer (type)                 Output Shape              Param #   \n",
            "=================================================================\n",
            "dense (Dense)                (None, 512)               401920    \n",
            "_________________________________________________________________\n",
            "dense_1 (Dense)              (None, 100)               51300     \n",
            "_________________________________________________________________\n",
            "dense_2 (Dense)              (None, 10)                1010      \n",
            "=================================================================\n",
            "Total params: 454,230\n",
            "Trainable params: 454,230\n",
            "Non-trainable params: 0\n",
            "_________________________________________________________________\n"
          ],
          "name": "stdout"
        }
      ]
    },
    {
      "cell_type": "code",
      "metadata": {
        "id": "4cdT3GXdXY0y"
      },
      "source": [
        "# 모델의 실행환경설정(3가지 설정)\r\n",
        "# (경사하강법)loss가 작아지도록 조절하는게 학습!\r\n",
        "model.compile(loss='categorical_crossentropy', optimizer='adam', metrics=['accuracy']) \r\n",
        "#다중분류할때categorical_crossentrop 이진분류는banery 회기는 rmse 루트민스퀘어/평가지표metrics"
      ],
      "execution_count": 43,
      "outputs": []
    },
    {
      "cell_type": "code",
      "metadata": {
        "colab": {
          "base_uri": "https://localhost:8080/"
        },
        "id": "cE-v-HULbHgd",
        "outputId": "f40f046b-0ae2-4a70-edaf-35fd1ef8ce00"
      },
      "source": [
        "# 모델 실행\r\n",
        "model.fit(X_train, Y_train, validation_split=0.2, epochs=20, batch_size=200) # batch_size 15000개중 200개씩 가지고 들어와서 훈련 너무크면 메모리가커야함;속도는빠른데, 갱신주기가 길어져 결과안좋을수있다\r\n",
        "#결과값 loss accuracy val_loss val_accuracy : val_loss가 낮은게 가장 좋은 모델"
      ],
      "execution_count": 44,
      "outputs": [
        {
          "output_type": "stream",
          "text": [
            "Epoch 1/20\n",
            "60/60 [==============================] - 2s 22ms/step - loss: 1.0158 - accuracy: 0.7032 - val_loss: 0.2809 - val_accuracy: 0.9160\n",
            "Epoch 2/20\n",
            "60/60 [==============================] - 1s 16ms/step - loss: 0.2481 - accuracy: 0.9315 - val_loss: 0.2134 - val_accuracy: 0.9360\n",
            "Epoch 3/20\n",
            "60/60 [==============================] - 1s 16ms/step - loss: 0.1617 - accuracy: 0.9558 - val_loss: 0.1839 - val_accuracy: 0.9493\n",
            "Epoch 4/20\n",
            "60/60 [==============================] - 1s 16ms/step - loss: 0.1083 - accuracy: 0.9715 - val_loss: 0.1734 - val_accuracy: 0.9500\n",
            "Epoch 5/20\n",
            "60/60 [==============================] - 1s 15ms/step - loss: 0.0790 - accuracy: 0.9795 - val_loss: 0.1661 - val_accuracy: 0.9513\n",
            "Epoch 6/20\n",
            "60/60 [==============================] - 1s 15ms/step - loss: 0.0661 - accuracy: 0.9835 - val_loss: 0.1598 - val_accuracy: 0.9567\n",
            "Epoch 7/20\n",
            "60/60 [==============================] - 1s 17ms/step - loss: 0.0431 - accuracy: 0.9909 - val_loss: 0.1517 - val_accuracy: 0.9563\n",
            "Epoch 8/20\n",
            "60/60 [==============================] - 1s 16ms/step - loss: 0.0292 - accuracy: 0.9938 - val_loss: 0.1556 - val_accuracy: 0.9593\n",
            "Epoch 9/20\n",
            "60/60 [==============================] - 1s 17ms/step - loss: 0.0194 - accuracy: 0.9967 - val_loss: 0.1487 - val_accuracy: 0.9580\n",
            "Epoch 10/20\n",
            "60/60 [==============================] - 1s 16ms/step - loss: 0.0142 - accuracy: 0.9982 - val_loss: 0.1471 - val_accuracy: 0.9617\n",
            "Epoch 11/20\n",
            "60/60 [==============================] - 1s 16ms/step - loss: 0.0113 - accuracy: 0.9990 - val_loss: 0.1487 - val_accuracy: 0.9620\n",
            "Epoch 12/20\n",
            "60/60 [==============================] - 1s 16ms/step - loss: 0.0078 - accuracy: 0.9995 - val_loss: 0.1510 - val_accuracy: 0.9630\n",
            "Epoch 13/20\n",
            "60/60 [==============================] - 1s 16ms/step - loss: 0.0052 - accuracy: 1.0000 - val_loss: 0.1525 - val_accuracy: 0.9613\n",
            "Epoch 14/20\n",
            "60/60 [==============================] - 1s 16ms/step - loss: 0.0036 - accuracy: 1.0000 - val_loss: 0.1553 - val_accuracy: 0.9633\n",
            "Epoch 15/20\n",
            "60/60 [==============================] - 1s 16ms/step - loss: 0.0027 - accuracy: 1.0000 - val_loss: 0.1554 - val_accuracy: 0.9640\n",
            "Epoch 16/20\n",
            "60/60 [==============================] - 1s 16ms/step - loss: 0.0024 - accuracy: 1.0000 - val_loss: 0.1566 - val_accuracy: 0.9637\n",
            "Epoch 17/20\n",
            "60/60 [==============================] - 1s 16ms/step - loss: 0.0019 - accuracy: 1.0000 - val_loss: 0.1592 - val_accuracy: 0.9623\n",
            "Epoch 18/20\n",
            "60/60 [==============================] - 1s 16ms/step - loss: 0.0017 - accuracy: 1.0000 - val_loss: 0.1602 - val_accuracy: 0.9647\n",
            "Epoch 19/20\n",
            "60/60 [==============================] - 1s 16ms/step - loss: 0.0015 - accuracy: 1.0000 - val_loss: 0.1638 - val_accuracy: 0.9630\n",
            "Epoch 20/20\n",
            "60/60 [==============================] - 1s 16ms/step - loss: 0.0013 - accuracy: 1.0000 - val_loss: 0.1640 - val_accuracy: 0.9630\n"
          ],
          "name": "stdout"
        },
        {
          "output_type": "execute_result",
          "data": {
            "text/plain": [
              "<tensorflow.python.keras.callbacks.History at 0x7fd2dcdd3eb8>"
            ]
          },
          "metadata": {
            "tags": []
          },
          "execution_count": 44
        }
      ]
    },
    {
      "cell_type": "code",
      "metadata": {
        "colab": {
          "base_uri": "https://localhost:8080/"
        },
        "id": "SCCME3NBgiLX",
        "outputId": "925ebd00-3bcd-4740-be0a-71a5cd5df122"
      },
      "source": [
        "model.evaluate(X_test, Y_test)\r\n",
        "#앞숫자loss0.117 /뒤숫자accuracy 0.9692"
      ],
      "execution_count": 45,
      "outputs": [
        {
          "output_type": "stream",
          "text": [
            "157/157 [==============================] - 1s 4ms/step - loss: 0.1171 - accuracy: 0.9692\n"
          ],
          "name": "stdout"
        },
        {
          "output_type": "execute_result",
          "data": {
            "text/plain": [
              "[0.11712192744016647, 0.9692000150680542]"
            ]
          },
          "metadata": {
            "tags": []
          },
          "execution_count": 45
        }
      ]
    },
    {
      "cell_type": "code",
      "metadata": {
        "colab": {
          "base_uri": "https://localhost:8080/"
        },
        "id": "VFgan4Zbglte",
        "outputId": "48a6a66d-c9d8-485e-f2fa-03e7a762f9e1"
      },
      "source": [
        "acc = model.evaluate(X_test, Y_test)[1]\r\n",
        "print(f'Accuracy = {acc:.4f}') #0.9692"
      ],
      "execution_count": 46,
      "outputs": [
        {
          "output_type": "stream",
          "text": [
            "157/157 [==============================] - 1s 4ms/step - loss: 0.1171 - accuracy: 0.9692\n",
            "Accuracy = 0.9692\n"
          ],
          "name": "stdout"
        }
      ]
    },
    {
      "cell_type": "code",
      "metadata": {
        "id": "UaRia2AEhAqE"
      },
      "source": [],
      "execution_count": null,
      "outputs": []
    }
  ]
}