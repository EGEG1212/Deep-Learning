{
  "nbformat": 4,
  "nbformat_minor": 0,
  "metadata": {
    "colab": {
      "name": "11.다층퍼셉트론-XOR.ipynb",
      "provenance": [],
      "collapsed_sections": []
    },
    "kernelspec": {
      "name": "python3",
      "display_name": "Python 3"
    }
  },
  "cells": [
    {
      "cell_type": "markdown",
      "metadata": {
        "id": "5uLxNOK0gNLA"
      },
      "source": [
        "# 다층 퍼셉트론 - XOR"
      ]
    },
    {
      "cell_type": "code",
      "metadata": {
        "id": "48LQVDaLfor1"
      },
      "source": [
        "import numpy as np\r\n",
        "\r\n",
        "# 가중치와 바이어스\r\n",
        "w11 = np.array([-2, -2])\r\n",
        "w12 = np.array([2, 2])\r\n",
        "w2 = np.array([1, 1])\r\n",
        "b1 = 3\r\n",
        "b2 = -1\r\n",
        "b3 = -1"
      ],
      "execution_count": null,
      "outputs": []
    },
    {
      "cell_type": "code",
      "metadata": {
        "id": "sRSVuldCgfxg"
      },
      "source": [
        "# 퍼셉트론 (Multi Layer Perceptron) 가중합을 한다음에 시그모이드를 마지막에 \r\n",
        "def MLP(x, w, b):\r\n",
        "    y = np.sum(w * x) + b\r\n",
        "    if y <= 0:\r\n",
        "        return 0\r\n",
        "    else:\r\n",
        "        return 1"
      ],
      "execution_count": null,
      "outputs": []
    },
    {
      "cell_type": "code",
      "metadata": {
        "id": "mi8QX5_egwQI"
      },
      "source": [
        "# NAND 게이트 w:[-2, -2], b:3  NotAnd\r\n",
        "def NAND(x1, x2):\r\n",
        "    return MLP(np.array([x1, x2]), w11, b1)\r\n",
        "\r\n",
        "# OR 게이트 w:[2, 2], b:-1\r\n",
        "def OR(x1, x2):\r\n",
        "    return MLP(np.array([x1, x2]), w12, b2)\r\n",
        "\r\n",
        "# AND 게이트 w:[1, 1], b:-1\r\n",
        "def AND(x1, x2):\r\n",
        "    return MLP(np.array([x1, x2]), w2, b3)\r\n",
        "\r\n",
        "# XOR 게이트\r\n",
        "def XOR(x1, x2):\r\n",
        "    return AND(NAND(x1, x2), OR(x1, x2))"
      ],
      "execution_count": null,
      "outputs": []
    },
    {
      "cell_type": "code",
      "metadata": {
        "colab": {
          "base_uri": "https://localhost:8080/"
        },
        "id": "ypkWpp4og1l4",
        "outputId": "9dbe3078-77be-4e3f-cd5c-42e3fce7137a"
      },
      "source": [
        "for x in [(0, 0), (1, 0), (0, 1), (1, 1)]:\r\n",
        "    print(NAND(*x))"
      ],
      "execution_count": null,
      "outputs": [
        {
          "output_type": "stream",
          "text": [
            "1\n",
            "1\n",
            "1\n",
            "0\n"
          ],
          "name": "stdout"
        }
      ]
    },
    {
      "cell_type": "code",
      "metadata": {
        "colab": {
          "base_uri": "https://localhost:8080/"
        },
        "id": "pMq230h3g_gI",
        "outputId": "4f73e1ad-0f76-459e-fe87-591e6412e346"
      },
      "source": [
        "for x in [(0, 0), (1, 0), (0, 1), (1, 1)]:\r\n",
        "    print(OR(*x))"
      ],
      "execution_count": null,
      "outputs": [
        {
          "output_type": "stream",
          "text": [
            "0\n",
            "1\n",
            "1\n",
            "1\n"
          ],
          "name": "stdout"
        }
      ]
    },
    {
      "cell_type": "code",
      "metadata": {
        "colab": {
          "base_uri": "https://localhost:8080/"
        },
        "id": "h1_YsHNXhGMo",
        "outputId": "1bcef6e1-8b1f-4775-d00c-79ec666ffe91"
      },
      "source": [
        "for x in [(0, 0), (1, 0), (0, 1), (1, 1)]:\r\n",
        "    print(AND(*x))"
      ],
      "execution_count": null,
      "outputs": [
        {
          "output_type": "stream",
          "text": [
            "0\n",
            "0\n",
            "0\n",
            "1\n"
          ],
          "name": "stdout"
        }
      ]
    },
    {
      "cell_type": "code",
      "metadata": {
        "colab": {
          "base_uri": "https://localhost:8080/"
        },
        "id": "iVqdhiWohNaX",
        "outputId": "d744e077-0d4d-4538-b728-7968f9f8bba9"
      },
      "source": [
        "# x1, x2 값을 번갈아 대입해 가며 최종값 출력\r\n",
        "if __name__ == '__main__':\r\n",
        "    for x in [(0, 0), (1, 0), (0, 1), (1, 1)]:\r\n",
        "        y = XOR(*x)\r\n",
        "        print(\"입력 값: \" + str(x) + \" 출력 값: \" + str(y))"
      ],
      "execution_count": null,
      "outputs": [
        {
          "output_type": "stream",
          "text": [
            "입력 값: (0, 0) 출력 값: 0\n",
            "입력 값: (1, 0) 출력 값: 1\n",
            "입력 값: (0, 1) 출력 값: 1\n",
            "입력 값: (1, 1) 출력 값: 0\n"
          ],
          "name": "stdout"
        }
      ]
    },
    {
      "cell_type": "code",
      "metadata": {
        "id": "8-IXU_i_dYeg"
      },
      "source": [
        ""
      ],
      "execution_count": null,
      "outputs": []
    }
  ]
}