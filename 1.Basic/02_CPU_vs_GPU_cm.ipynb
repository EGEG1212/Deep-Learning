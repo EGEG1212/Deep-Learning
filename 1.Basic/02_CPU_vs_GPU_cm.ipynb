{
  "nbformat": 4,
  "nbformat_minor": 0,
  "metadata": {
    "colab": {
      "name": "02_CPU-vs-GPU.ipynb의 사본",
      "provenance": [],
      "collapsed_sections": []
    },
    "kernelspec": {
      "name": "python3",
      "display_name": "Python 3",
      "language": "python"
    },
    "accelerator": "GPU"
  },
  "cells": [
    {
      "cell_type": "code",
      "metadata": {
        "id": "l1npQQSwhTz7",
        "colab": {
          "base_uri": "https://localhost:8080/",
          "height": 138
        },
        "outputId": "944cfb3e-36d9-4803-9f60-a40a478266af"
      },
      "source": [
        "[![Open In Colab](https://colab.research.google.com/assets/colab-badge.svg)](https://colab.research.google.com/github/EGEG1212/Deep-Learning/blob/main/1.Basic/02_CPU_vs_GPU.ipynb)"
      ],
      "execution_count": null,
      "outputs": [
        {
          "output_type": "error",
          "ename": "SyntaxError",
          "evalue": "ignored",
          "traceback": [
            "\u001b[0;36m  File \u001b[0;32m\"<ipython-input-20-85e43d85859c>\"\u001b[0;36m, line \u001b[0;32m1\u001b[0m\n\u001b[0;31m    [![Open In Colab](https://colab.research.google.com/assets/colab-badge.svg)](https://colab.research.google.com/github/EGEG1212/Deep-Learning/blob/main/1.Basic/02_CPU_vs_GPU.ipynb)\u001b[0m\n\u001b[0m     ^\u001b[0m\n\u001b[0;31mSyntaxError\u001b[0m\u001b[0;31m:\u001b[0m invalid syntax\n"
          ]
        }
      ]
    },
    {
      "cell_type": "code",
      "metadata": {
        "id": "NR-wpIre0Oqk"
      },
      "source": [
        "import numpy as np\r\n",
        "import tensorflow as tf\r\n",
        "from tensorflow import keras\r\n",
        "from keras.datasets import mnist\r\n",
        "from keras.models import Sequential\r\n",
        "from keras.layers import Dense, Dropout, Flatten, Conv2D, MaxPooling2D\r\n",
        "from keras.callbacks import ModelCheckpoint, EarlyStopping\r\n",
        "\r\n",
        "import os\r\n",
        "import matplotlib.pyplot as plt\r\n",
        "%matplotlib inline"
      ],
      "execution_count": null,
      "outputs": []
    },
    {
      "cell_type": "code",
      "metadata": {
        "id": "cbe0Fcns0aL5"
      },
      "source": [
        "# seed 값 설정\r\n",
        "seed = 2021\r\n",
        "np.random.seed(seed)\r\n",
        "tf.random.set_seed(seed)"
      ],
      "execution_count": null,
      "outputs": []
    },
    {
      "cell_type": "code",
      "metadata": {
        "colab": {
          "base_uri": "https://localhost:8080/"
        },
        "id": "dkuvqZCy0a85",
        "outputId": "cb6e5817-196f-49d5-cde3-51b47e788241"
      },
      "source": [
        "# 데이터 불러오기/reshape_scaler/원핫인코딩분류to_categorical\r\n",
        "(X_train, Y_train), (X_test, Y_test) = mnist.load_data()\r\n",
        "X_train = X_train.reshape(-1, 28, 28, 1).astype('float32') / 255\r\n",
        "X_test = X_test.reshape(-1, 28, 28, 1).astype('float32') / 255\r\n",
        "Y_train = keras.utils.to_categorical(Y_train)\r\n",
        "Y_test = keras.utils.to_categorical(Y_test)"
      ],
      "execution_count": null,
      "outputs": [
        {
          "output_type": "stream",
          "text": [
            "Downloading data from https://storage.googleapis.com/tensorflow/tf-keras-datasets/mnist.npz\n",
            "11493376/11490434 [==============================] - 0s 0us/step\n"
          ],
          "name": "stdout"
        }
      ]
    },
    {
      "cell_type": "code",
      "metadata": {
        "colab": {
          "base_uri": "https://localhost:8080/"
        },
        "id": "jfJ1BIDu0p95",
        "outputId": "2d31875d-0dee-444a-de05-c3dd666803c0"
      },
      "source": [
        "X_train.shape, X_test.shape\r\n",
        "#결과값 60000,28,28,1 흑백이라1"
      ],
      "execution_count": null,
      "outputs": [
        {
          "output_type": "execute_result",
          "data": {
            "text/plain": [
              "((60000, 28, 28, 1), (10000, 28, 28, 1))"
            ]
          },
          "metadata": {
            "tags": []
          },
          "execution_count": 5
        }
      ]
    },
    {
      "cell_type": "code",
      "metadata": {
        "colab": {
          "base_uri": "https://localhost:8080/"
        },
        "id": "KpXZvhbn0sMg",
        "outputId": "58ea793d-356e-42f0-8fff-08a732c6eba2"
      },
      "source": [
        "# 컨볼루션 신경망CNN 설정\r\n",
        "model = Sequential([\r\n",
        "    Conv2D(32, kernel_size=(3, 3), input_shape=(28, 28, 1), \r\n",
        "           activation='relu'),\r\n",
        "    Conv2D(64, (3, 3), activation='relu'),\r\n",
        "    MaxPooling2D(pool_size=2),\r\n",
        "    Dropout(0.25), #여기까지 2차원처리\r\n",
        "    Flatten(),#1차원으로 펼치기\r\n",
        "    Dense(128, activation='relu'),\r\n",
        "    Dropout(0.5),\r\n",
        "    Dense(10, activation='softmax')\r\n",
        "])\r\n",
        "model.summary()\r\n",
        "# 결과값 Total params: 1,199,882 네트웍이 120만개정도로 복잡해진것"
      ],
      "execution_count": null,
      "outputs": [
        {
          "output_type": "stream",
          "text": [
            "Model: \"sequential\"\n",
            "_________________________________________________________________\n",
            "Layer (type)                 Output Shape              Param #   \n",
            "=================================================================\n",
            "conv2d (Conv2D)              (None, 26, 26, 32)        320       \n",
            "_________________________________________________________________\n",
            "conv2d_1 (Conv2D)            (None, 24, 24, 64)        18496     \n",
            "_________________________________________________________________\n",
            "max_pooling2d (MaxPooling2D) (None, 12, 12, 64)        0         \n",
            "_________________________________________________________________\n",
            "dropout (Dropout)            (None, 12, 12, 64)        0         \n",
            "_________________________________________________________________\n",
            "flatten (Flatten)            (None, 9216)              0         \n",
            "_________________________________________________________________\n",
            "dense (Dense)                (None, 128)               1179776   \n",
            "_________________________________________________________________\n",
            "dropout_1 (Dropout)          (None, 128)               0         \n",
            "_________________________________________________________________\n",
            "dense_1 (Dense)              (None, 10)                1290      \n",
            "=================================================================\n",
            "Total params: 1,199,882\n",
            "Trainable params: 1,199,882\n",
            "Non-trainable params: 0\n",
            "_________________________________________________________________\n"
          ],
          "name": "stdout"
        }
      ]
    },
    {
      "cell_type": "code",
      "metadata": {
        "colab": {
          "base_uri": "https://localhost:8080/",
          "height": 855
        },
        "id": "5ynN9Y7vjB96",
        "outputId": "5d78ae2a-e794-48b6-aac2-0e18aa0fc5d8"
      },
      "source": [
        "from tensorflow.keras.utils import plot_model #모델시각화 \r\n",
        "plot_model(model)"
      ],
      "execution_count": null,
      "outputs": [
        {
          "output_type": "execute_result",
          "data": {
            "image/png": "[encoded data removed]",
            "text/plain": [
              "<IPython.core.display.Image object>"
            ]
          },
          "metadata": {
            "tags": []
          },
          "execution_count": 7
        }
      ]
    },
    {
      "cell_type": "code",
      "metadata": {
        "id": "UD82H1-f03b0"
      },
      "source": [
        "model.compile(loss='categorical_crossentropy', #다중분류categorical_crossentropy/이진분류는 binary\r\n",
        "              optimizer='adam',\r\n",
        "              metrics=['accuracy'])"
      ],
      "execution_count": null,
      "outputs": []
    },
    {
      "cell_type": "code",
      "metadata": {
        "id": "_3osRNBD04eQ"
      },
      "source": [
        "# 모델 최적화 설정\r\n",
        "MODEL_DIR = './model/'\r\n",
        "if not os.path.exists(MODEL_DIR):\r\n",
        "    os.mkdir(MODEL_DIR)"
      ],
      "execution_count": null,
      "outputs": []
    },
    {
      "cell_type": "code",
      "metadata": {
        "colab": {
          "base_uri": "https://localhost:8080/"
        },
        "id": "zI9BHg3X1JZ5",
        "outputId": "8355377a-ec3a-4a93-8551-80d01ee2ef5e"
      },
      "source": [
        "!ls -l #모델리스트확인"
      ],
      "execution_count": null,
      "outputs": [
        {
          "output_type": "stream",
          "text": [
            "total 32\n",
            "drwxr-xr-x 2 root root  4096 Feb  8 07:24 model\n",
            "-rw-r--r-- 1 root root 23744 Feb  8 07:24 model.png\n",
            "drwxr-xr-x 1 root root  4096 Feb  4 15:26 sample_data\n"
          ],
          "name": "stdout"
        }
      ]
    },
    {
      "cell_type": "code",
      "metadata": {
        "id": "5ZnapJ5W1KpJ"
      },
      "source": [
        "modelpath = MODEL_DIR + \"mnist-cnn-{epoch:02d}-{val_loss:.4f}.hdf5\"\r\n",
        "#콜백함수:checkpointer란 val_loss가 이전것보다 낮으면 저장\r\n",
        "checkpointer = ModelCheckpoint(filepath=modelpath, monitor='val_loss', \r\n",
        "                               verbose=1, save_best_only=True)\r\n",
        "#콜백함수:early_stopping_callback란 val_loss가 더이상 낮아지지 않으면 epoch를 마친다.\r\n",
        "early_stopping_callback = EarlyStopping(monitor='val_loss', patience=10)"
      ],
      "execution_count": null,
      "outputs": []
    },
    {
      "cell_type": "code",
      "metadata": {
        "colab": {
          "base_uri": "https://localhost:8080/"
        },
        "id": "3sInRe9j1T1Q",
        "outputId": "42a000fd-5953-4edf-c7d8-b5f168ed8bf1"
      },
      "source": [
        "# 모델의 실행\r\n",
        "history = model.fit(X_train, Y_train, validation_split=0.2, epochs=30,\r\n",
        "                    batch_size=200,\r\n",
        "                    callbacks=[early_stopping_callback, checkpointer])"
      ],
      "execution_count": null,
      "outputs": [
        {
          "output_type": "stream",
          "text": [
            "Epoch 1/30\n",
            "240/240 [==============================] - 10s 14ms/step - loss: 0.6063 - accuracy: 0.8103 - val_loss: 0.0728 - val_accuracy: 0.9792\n",
            "\n",
            "Epoch 00001: val_loss improved from inf to 0.07278, saving model to ./model/mnist-cnn-01-0.0728.hdf5\n",
            "Epoch 2/30\n",
            "240/240 [==============================] - 3s 12ms/step - loss: 0.1039 - accuracy: 0.9693 - val_loss: 0.0542 - val_accuracy: 0.9841\n",
            "\n",
            "Epoch 00002: val_loss improved from 0.07278 to 0.05419, saving model to ./model/mnist-cnn-02-0.0542.hdf5\n",
            "Epoch 3/30\n",
            "240/240 [==============================] - 3s 12ms/step - loss: 0.0668 - accuracy: 0.9802 - val_loss: 0.0453 - val_accuracy: 0.9868\n",
            "\n",
            "Epoch 00003: val_loss improved from 0.05419 to 0.04529, saving model to ./model/mnist-cnn-03-0.0453.hdf5\n",
            "Epoch 4/30\n",
            "240/240 [==============================] - 3s 12ms/step - loss: 0.0599 - accuracy: 0.9810 - val_loss: 0.0413 - val_accuracy: 0.9882\n",
            "\n",
            "Epoch 00004: val_loss improved from 0.04529 to 0.04127, saving model to ./model/mnist-cnn-04-0.0413.hdf5\n",
            "Epoch 5/30\n",
            "240/240 [==============================] - 3s 12ms/step - loss: 0.0455 - accuracy: 0.9853 - val_loss: 0.0389 - val_accuracy: 0.9894\n",
            "\n",
            "Epoch 00005: val_loss improved from 0.04127 to 0.03885, saving model to ./model/mnist-cnn-05-0.0389.hdf5\n",
            "Epoch 6/30\n",
            "240/240 [==============================] - 3s 13ms/step - loss: 0.0431 - accuracy: 0.9860 - val_loss: 0.0397 - val_accuracy: 0.9889\n",
            "\n",
            "Epoch 00006: val_loss did not improve from 0.03885\n",
            "Epoch 7/30\n",
            "240/240 [==============================] - 3s 13ms/step - loss: 0.0359 - accuracy: 0.9894 - val_loss: 0.0361 - val_accuracy: 0.9900\n",
            "\n",
            "Epoch 00007: val_loss improved from 0.03885 to 0.03607, saving model to ./model/mnist-cnn-07-0.0361.hdf5\n",
            "Epoch 8/30\n",
            "240/240 [==============================] - 3s 12ms/step - loss: 0.0322 - accuracy: 0.9899 - val_loss: 0.0373 - val_accuracy: 0.9900\n",
            "\n",
            "Epoch 00008: val_loss did not improve from 0.03607\n",
            "Epoch 9/30\n",
            "240/240 [==============================] - 3s 12ms/step - loss: 0.0286 - accuracy: 0.9904 - val_loss: 0.0417 - val_accuracy: 0.9886\n",
            "\n",
            "Epoch 00009: val_loss did not improve from 0.03607\n",
            "Epoch 10/30\n",
            "240/240 [==============================] - 3s 12ms/step - loss: 0.0266 - accuracy: 0.9904 - val_loss: 0.0386 - val_accuracy: 0.9902\n",
            "\n",
            "Epoch 00010: val_loss did not improve from 0.03607\n",
            "Epoch 11/30\n",
            "240/240 [==============================] - 3s 13ms/step - loss: 0.0228 - accuracy: 0.9922 - val_loss: 0.0367 - val_accuracy: 0.9903\n",
            "\n",
            "Epoch 00011: val_loss did not improve from 0.03607\n",
            "Epoch 12/30\n",
            "240/240 [==============================] - 3s 13ms/step - loss: 0.0243 - accuracy: 0.9916 - val_loss: 0.0415 - val_accuracy: 0.9898\n",
            "\n",
            "Epoch 00012: val_loss did not improve from 0.03607\n",
            "Epoch 13/30\n",
            "240/240 [==============================] - 3s 12ms/step - loss: 0.0201 - accuracy: 0.9930 - val_loss: 0.0375 - val_accuracy: 0.9912\n",
            "\n",
            "Epoch 00013: val_loss did not improve from 0.03607\n",
            "Epoch 14/30\n",
            "240/240 [==============================] - 3s 13ms/step - loss: 0.0212 - accuracy: 0.9933 - val_loss: 0.0432 - val_accuracy: 0.9896\n",
            "\n",
            "Epoch 00014: val_loss did not improve from 0.03607\n",
            "Epoch 15/30\n",
            "240/240 [==============================] - 3s 13ms/step - loss: 0.0188 - accuracy: 0.9938 - val_loss: 0.0438 - val_accuracy: 0.9898\n",
            "\n",
            "Epoch 00015: val_loss did not improve from 0.03607\n",
            "Epoch 16/30\n",
            "240/240 [==============================] - 3s 12ms/step - loss: 0.0183 - accuracy: 0.9938 - val_loss: 0.0411 - val_accuracy: 0.9905\n",
            "\n",
            "Epoch 00016: val_loss did not improve from 0.03607\n",
            "Epoch 17/30\n",
            "240/240 [==============================] - 3s 12ms/step - loss: 0.0170 - accuracy: 0.9944 - val_loss: 0.0433 - val_accuracy: 0.9897\n",
            "\n",
            "Epoch 00017: val_loss did not improve from 0.03607\n"
          ],
          "name": "stdout"
        }
      ]
    },
    {
      "cell_type": "code",
      "metadata": {
        "colab": {
          "base_uri": "https://localhost:8080/"
        },
        "id": "jygtw6vp1YeT",
        "outputId": "ab7fa7d3-a41b-46c2-f870-3f52df1b8bfc"
      },
      "source": [
        "!ls model #model파일목록을보여줘 val_loss 제일낮은게 좋은모델"
      ],
      "execution_count": null,
      "outputs": [
        {
          "output_type": "stream",
          "text": [
            "mnist-cnn-01-0.0728.hdf5  mnist-cnn-03-0.0453.hdf5  mnist-cnn-05-0.0389.hdf5\n",
            "mnist-cnn-02-0.0542.hdf5  mnist-cnn-04-0.0413.hdf5  mnist-cnn-07-0.0361.hdf5\n"
          ],
          "name": "stdout"
        }
      ]
    },
    {
      "cell_type": "code",
      "metadata": {
        "id": "qZDWizT7Avw1"
      },
      "source": [
        "from keras.models import load_model\r\n",
        "del model\r\n",
        "model = load_model('model/mnist-cnn-07-0.0361.hdf5') #제일낮은 좋은모델을 불러다가"
      ],
      "execution_count": null,
      "outputs": []
    },
    {
      "cell_type": "code",
      "metadata": {
        "colab": {
          "base_uri": "https://localhost:8080/"
        },
        "id": "DXBdkIOWA76U",
        "outputId": "d5eb24dd-2a5d-48fb-e704-0768dc40b9d7"
      },
      "source": [
        "# 테스트 정확도 출력 \r\n",
        "acc = model.evaluate(X_test, Y_test, verbose=0)[1]\r\n",
        "print(f\"Test Accuracy:{acc:.4f}\"\n",
        ") #0.9897"
      ],
      "execution_count": null,
      "outputs": [
        {
          "output_type": "stream",
          "text": [
            "Test Accuracy:0.9897\n"
          ],
          "name": "stdout"
        }
      ]
    },
    {
      "cell_type": "code",
      "metadata": {
        "id": "mfihh7vVBZTM"
      },
      "source": [
        "# 시각화\r\n",
        "# 검증셋의 오차\r\n",
        "y_vloss = history.history['val_loss']\r\n",
        "\r\n",
        "# 학습셋의 오차\r\n",
        "y_loss = history.history['loss']"
      ],
      "execution_count": null,
      "outputs": []
    },
    {
      "cell_type": "code",
      "metadata": {
        "colab": {
          "base_uri": "https://localhost:8080/",
          "height": 387
        },
        "id": "AbvCfHfnCt71",
        "outputId": "c79ac492-5332-43df-a200-7a3493c4cc2d"
      },
      "source": [
        "# 그래프로 표현 \r\n",
        "x_len = np.arange(1, len(y_loss)+1)\r\n",
        "plt.figure(figsize=(8,6))\r\n",
        "plt.plot(x_len, y_vloss, marker='.', c=\"red\", label='Validationset_loss')\r\n",
        "plt.plot(x_len, y_loss, marker='.', c=\"blue\", label='Trainset_loss')\r\n",
        "\r\n",
        "# 그래프에 그리드를 주고 레이블을 표시\r\n",
        "plt.legend(loc='upper right')\r\n",
        "#plt.axis([0, 20, 0, 0.35])\r\n",
        "plt.grid()\r\n",
        "plt.xlabel('epoch')\r\n",
        "plt.ylabel('loss')\r\n",
        "plt.show()\r\n",
        "# validationset에 대하여 어느정도 loss줄어들면 더이상 줄어들지 않는다"
      ],
      "execution_count": null,
      "outputs": [
        {
          "output_type": "display_data",
          "data": {
            "image/png": "[encoded data removed]",
            "text/plain": [
              "<Figure size 576x432 with 1 Axes>"
            ]
          },
          "metadata": {
            "tags": [],
            "needs_background": "light"
          }
        }
      ]
    },
    {
      "cell_type": "markdown",
      "metadata": {
        "id": "AinVnay_QJqN"
      },
      "source": [
        "### GPU"
      ]
    },
    {
      "cell_type": "code",
      "metadata": {
        "colab": {
          "base_uri": "https://localhost:8080/"
        },
        "id": "_xDVfkvZQJK_",
        "outputId": "2479a699-d162-4de2-e877-6a6559006d29"
      },
      "source": [
        "#GPU썼는지 확인\r\n",
        "from tensorflow.python.client import device_lib\r\n",
        "print(device_lib.list_local_devices())"
      ],
      "execution_count": null,
      "outputs": [
        {
          "output_type": "stream",
          "text": [
            "[name: \"/device:CPU:0\"\n",
            "device_type: \"CPU\"\n",
            "memory_limit: 268435456\n",
            "locality {\n",
            "}\n",
            "incarnation: 2321252287204213941\n",
            ", name: \"/device:GPU:0\"\n",
            "device_type: \"GPU\"\n",
            "memory_limit: 7296790048\n",
            "locality {\n",
            "  bus_id: 1\n",
            "  links {\n",
            "  }\n",
            "}\n",
            "incarnation: 12019067354455608827\n",
            "physical_device_desc: \"device: 0, name: Tesla P4, pci bus id: 0000:00:04.0, compute capability: 6.1\"\n",
            "]\n"
          ],
          "name": "stdout"
        }
      ]
    },
    {
      "cell_type": "code",
      "metadata": {
        "colab": {
          "base_uri": "https://localhost:8080/"
        },
        "id": "0MW1gmrASRXu",
        "outputId": "e93968db-2f49-452c-f5a4-5d25842654b2"
      },
      "source": [
        "!nvidia-smi"
      ],
      "execution_count": null,
      "outputs": [
        {
          "output_type": "stream",
          "text": [
            "Mon Feb  8 07:27:25 2021       \n",
            "+-----------------------------------------------------------------------------+\n",
            "| NVIDIA-SMI 460.39       Driver Version: 418.67       CUDA Version: 10.1     |\n",
            "|-------------------------------+----------------------+----------------------+\n",
            "| GPU  Name        Persistence-M| Bus-Id        Disp.A | Volatile Uncorr. ECC |\n",
            "| Fan  Temp  Perf  Pwr:Usage/Cap|         Memory-Usage | GPU-Util  Compute M. |\n",
            "|                               |                      |               MIG M. |\n",
            "|===============================+======================+======================|\n",
            "|   0  Tesla P4            Off  | 00000000:00:04.0 Off |                    0 |\n",
            "| N/A   55C    P0    24W /  75W |    909MiB /  7611MiB |      0%      Default |\n",
            "|                               |                      |                 ERR! |\n",
            "+-------------------------------+----------------------+----------------------+\n",
            "                                                                               \n",
            "+-----------------------------------------------------------------------------+\n",
            "| Processes:                                                                  |\n",
            "|  GPU   GI   CI        PID   Type   Process name                  GPU Memory |\n",
            "|        ID   ID                                                   Usage      |\n",
            "|=============================================================================|\n",
            "|  No running processes found                                                 |\n",
            "+-----------------------------------------------------------------------------+\n"
          ],
          "name": "stdout"
        }
      ]
    },
    {
      "cell_type": "code",
      "metadata": {
        "id": "RYUTf9REibPf"
      },
      "source": [],
      "execution_count": null,
      "outputs": []
    }
  ]
}